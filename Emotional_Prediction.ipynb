{
  "nbformat": 4,
  "nbformat_minor": 0,
  "metadata": {
    "colab": {
      "provenance": []
    },
    "kernelspec": {
      "name": "python3",
      "display_name": "Python 3"
    },
    "language_info": {
      "name": "python"
    }
  },
  "cells": [
    {
      "cell_type": "markdown",
      "source": [
        "Name: Ayesha Zubair\n",
        "\n",
        "Email: ayeshazubair230@gmail.com\n",
        "\n",
        "---\n",
        "\n",
        "\n",
        "\n",
        "# **AI 2024 Online Summer Internship**\n",
        "## **Make Your Place in top 20% AI Engineers of the World**\n",
        "# **Assignment 3 :**\n",
        "\n",
        "## **Emotional Prediction Model**"
      ],
      "metadata": {
        "id": "b6Bh8sLF8xAR"
      }
    },
    {
      "cell_type": "markdown",
      "source": [
        "# **Step 1: Import Libraries**"
      ],
      "metadata": {
        "id": "1ATTo6bHc_wM"
      }
    },
    {
      "cell_type": "code",
      "source": [
        "import re\n",
        "import pandas as pd\n",
        "from nltk.corpus import stopwords\n",
        "from sklearn.feature_extraction.text import TfidfVectorizer\n",
        "from sklearn.model_selection import train_test_split\n",
        "from sklearn.naive_bayes import MultinomialNB\n",
        "from sklearn.metrics import accuracy_score, classification_report, confusion_matrix\n",
        "import nltk\n",
        "import joblib\n",
        "import seaborn as sns\n",
        "import matplotlib.pyplot as plt"
      ],
      "metadata": {
        "id": "fn6VxJ7M80Ke"
      },
      "execution_count": 1,
      "outputs": []
    },
    {
      "cell_type": "markdown",
      "source": [
        "# **Step 2: Load Sample Data**"
      ],
      "metadata": {
        "id": "UFkPktfm9A-l"
      }
    },
    {
      "cell_type": "code",
      "source": [
        "data = pd.read_csv('/content/emotion_prediction_dataset.csv')\n",
        "\n",
        "print(\"\\n\\nEmotional Prediction Data:\")\n",
        "print(\"============\\n\")\n",
        "pd.set_option(\"display.max_rows\", None, \"display.max_columns\", None)\n",
        "print(f'Sample data count = {len(data)}\\n')\n",
        "print(data.head())\n",
        "print(data.tail())\n"
      ],
      "metadata": {
        "colab": {
          "base_uri": "https://localhost:8080/"
        },
        "id": "tkd2CJI39ECf",
        "outputId": "21745599-fdb9-4984-8a5b-a57e7291b88a"
      },
      "execution_count": 9,
      "outputs": [
        {
          "output_type": "stream",
          "name": "stdout",
          "text": [
            "\n",
            "\n",
            "Emotional Prediction Data:\n",
            "============\n",
            "\n",
            "Sample data count = 100\n",
            "\n",
            "                                               Tweet Emotion\n",
            "0             False alarm // matoma &amp; Becky hill   anger\n",
            "1  I'm tired of everybody telling me to chill out...   anger\n",
            "2  Im so serious about putting words in my mouth ...   anger\n",
            "3  Can someone make me a priority list of which t...   anger\n",
            "4  @TeaPartyOrg Hes right when the Civil war star...   anger\n",
            "                                                Tweet Emotion\n",
            "95  Riggs dumb ass hell lolol #hilarious #LethalWe...   trust\n",
            "96                        American Schools are lively   trust\n",
            "97  Accept the challenges so that you can feel the...   trust\n",
            "98  Have any of you ever stayed in hostels oversea...   trust\n",
            "99  @ProSyndicate thanks for replying, I'm ironing...   trust\n"
          ]
        }
      ]
    },
    {
      "cell_type": "markdown",
      "source": [
        "# **Step 2.1: View Columns In Dataset**"
      ],
      "metadata": {
        "id": "Op4kWAcZ9rK2"
      }
    },
    {
      "cell_type": "code",
      "source": [
        "data.columns"
      ],
      "metadata": {
        "colab": {
          "base_uri": "https://localhost:8080/"
        },
        "id": "QLSSzXBp9z-f",
        "outputId": "ef4a4695-533b-4581-ea29-7e68ca6bebde"
      },
      "execution_count": 5,
      "outputs": [
        {
          "output_type": "execute_result",
          "data": {
            "text/plain": [
              "Index(['Tweet', 'Emotion'], dtype='object')"
            ]
          },
          "metadata": {},
          "execution_count": 5
        }
      ]
    },
    {
      "cell_type": "markdown",
      "source": [
        "# **Step 2.2: Keeping Required Column In Dataset**"
      ],
      "metadata": {
        "id": "8h0_YpQN95ZD"
      }
    },
    {
      "cell_type": "code",
      "source": [
        "data = data [['Tweet', 'Emotion']]\n",
        "\n",
        "print(\"\\n\\nEmotional Prediction Data:\")\n",
        "print(\"============\\n\")\n",
        "pd.set_option(\"display.max_rows\", None, \"display.max_columns\", None)\n",
        "print(data.head())\n",
        "print(data.tail())"
      ],
      "metadata": {
        "colab": {
          "base_uri": "https://localhost:8080/"
        },
        "id": "NubDzIG7-Bh4",
        "outputId": "8e9ed6c8-9625-41f0-8205-d2614ff3e3dc"
      },
      "execution_count": 11,
      "outputs": [
        {
          "output_type": "stream",
          "name": "stdout",
          "text": [
            "\n",
            "\n",
            "Emotional Prediction Data:\n",
            "============\n",
            "\n",
            "                                               Tweet Emotion\n",
            "0             False alarm // matoma &amp; Becky hill   anger\n",
            "1  I'm tired of everybody telling me to chill out...   anger\n",
            "2  Im so serious about putting words in my mouth ...   anger\n",
            "3  Can someone make me a priority list of which t...   anger\n",
            "4  @TeaPartyOrg Hes right when the Civil war star...   anger\n",
            "                                                Tweet Emotion\n",
            "95  Riggs dumb ass hell lolol #hilarious #LethalWe...   trust\n",
            "96                        American Schools are lively   trust\n",
            "97  Accept the challenges so that you can feel the...   trust\n",
            "98  Have any of you ever stayed in hostels oversea...   trust\n",
            "99  @ProSyndicate thanks for replying, I'm ironing...   trust\n"
          ]
        }
      ]
    },
    {
      "cell_type": "markdown",
      "source": [
        "# **Step 3: Understand and Pre-process Sample Data**"
      ],
      "metadata": {
        "id": "zc3O_gWu-wX8"
      }
    },
    {
      "cell_type": "markdown",
      "source": [
        "## **Step 3.1: Download and set stopwords**"
      ],
      "metadata": {
        "id": "4ugqpCWl-8-f"
      }
    },
    {
      "cell_type": "code",
      "source": [
        "# Ensure you have downloaded the stopwords\n",
        "import nltk\n",
        "nltk.download('stopwords')\n",
        "from nltk.corpus import stopwords\n",
        "stop_words = set(stopwords.words('english'))"
      ],
      "metadata": {
        "colab": {
          "base_uri": "https://localhost:8080/"
        },
        "id": "PdIKncJ0_C60",
        "outputId": "7e30a946-8b1f-4ac7-c32a-5332d5f38e63"
      },
      "execution_count": 12,
      "outputs": [
        {
          "output_type": "stream",
          "name": "stderr",
          "text": [
            "[nltk_data] Downloading package stopwords to /root/nltk_data...\n",
            "[nltk_data]   Unzipping corpora/stopwords.zip.\n"
          ]
        }
      ]
    },
    {
      "cell_type": "markdown",
      "source": [
        "## **Step 3.2: Define a function to clean the text**"
      ],
      "metadata": {
        "id": "I7uJxraG_Jrb"
      }
    },
    {
      "cell_type": "code",
      "source": [
        "# Function to clean the text\n",
        "def clean_text(text):\n",
        "    # Remove symbols and numbers\n",
        "    text = re.sub(r'[^a-zA-Z\\s]', '', text)\n",
        "    # Convert text to lowercase\n",
        "    text = text.lower()\n",
        "    # Remove stop words\n",
        "    text = ' '.join(word for word in text.split() if word not in stop_words)\n",
        "    return text"
      ],
      "metadata": {
        "id": "GaxOcdRn_P2R"
      },
      "execution_count": 13,
      "outputs": []
    },
    {
      "cell_type": "markdown",
      "source": [
        "**Function 1: Remove Symbols and Numbers**"
      ],
      "metadata": {
        "id": "QL-CG1Wy_W9S"
      }
    },
    {
      "cell_type": "code",
      "source": [
        "def remove_symbols_numbers(text):\n",
        "    # Remove symbols and numbers\n",
        "    text = re.sub(r'[^a-zA-Z\\s]', '', text)\n",
        "    return text"
      ],
      "metadata": {
        "id": "ZHH98ehn_ZVY"
      },
      "execution_count": 14,
      "outputs": []
    },
    {
      "cell_type": "markdown",
      "source": [
        "**Function 2: Convert Text to Lowercase**"
      ],
      "metadata": {
        "id": "-73D45IE_cic"
      }
    },
    {
      "cell_type": "code",
      "source": [
        "def to_lowercase(text):\n",
        "    # Convert text to lowercase\n",
        "    text = text.lower()\n",
        "    return text"
      ],
      "metadata": {
        "id": "Kb1e3MIG_fnM"
      },
      "execution_count": 15,
      "outputs": []
    },
    {
      "cell_type": "markdown",
      "source": [
        "**Function 3: Remove Stopwords**"
      ],
      "metadata": {
        "id": "ZNLSoT6n_iTb"
      }
    },
    {
      "cell_type": "code",
      "source": [
        "stop_words = set(stopwords.words('english'))\n",
        "\n",
        "def remove_stopwords(text):\n",
        "    # Remove stop words\n",
        "    text = ' '.join(word for word in text.split() if word not in stop_words)\n",
        "    return text"
      ],
      "metadata": {
        "id": "daLutH5k_8--"
      },
      "execution_count": 16,
      "outputs": []
    },
    {
      "cell_type": "markdown",
      "source": [
        "## **Step 3.3: Load the data**"
      ],
      "metadata": {
        "id": "m-IvzJQ2AK5s"
      }
    },
    {
      "cell_type": "code",
      "source": [
        "# Load the data\n",
        "data = pd.read_csv('/content/emotion_prediction_dataset.csv')"
      ],
      "metadata": {
        "id": "WrgagJObARWM"
      },
      "execution_count": 17,
      "outputs": []
    },
    {
      "cell_type": "code",
      "source": [
        "data"
      ],
      "metadata": {
        "colab": {
          "base_uri": "https://localhost:8080/",
          "height": 1000
        },
        "id": "MPBbmX09AYPb",
        "outputId": "279370a9-7d00-4ef9-f853-adf70a32ed5d"
      },
      "execution_count": 18,
      "outputs": [
        {
          "output_type": "execute_result",
          "data": {
            "text/plain": [
              "                                                Tweet       Emotion\n",
              "0              False alarm // matoma &amp; Becky hill         anger\n",
              "1   I'm tired of everybody telling me to chill out...         anger\n",
              "2   Im so serious about putting words in my mouth ...         anger\n",
              "3   Can someone make me a priority list of which t...         anger\n",
              "4   @TeaPartyOrg Hes right when the Civil war star...         anger\n",
              "5   From harboring Osama bin Laden to its relation...         anger\n",
              "6   tomorrow will be the last episode of despair a...  anticipation\n",
              "7   PASTOR - 15 FEET away from shooting victim dur...  anticipation\n",
              "8   me: are you guys dating yet #trans #nervous #b...  anticipation\n",
              "9   Collects all the times when Minerva would chew...  anticipation\n",
              "10  10 page script due Friday for class. Who said ...  anticipation\n",
              "11  Omg I actually thought she was going to jump. ...  anticipation\n",
              "12  You don't know what to expect by Brendon's vid...  anticipation\n",
              "13  @LaneWoolery @FFKazman experience all plays a ...  anticipation\n",
              "14  @Montel_Williams If this ban goes through, it ...       disgust\n",
              "15  @PatBlanchfield so you mean “like Uber but for...       disgust\n",
              "16                                      This is awful       disgust\n",
              "17  @thehill George H. Establishment is unhappy Tr...       disgust\n",
              "18  Sky news still pushing the Brexit gloom line, ...       disgust\n",
              "19  Leave it on there, rule,nimber 1 of carpet cle...       disgust\n",
              "20                         @vladfucker69 i look rabid       disgust\n",
              "21  @MichaelSalfino It still destroys Fear The Wal...       disgust\n",
              "22                        @mcauley_ross rojo is awful       disgust\n",
              "23  @MetPoliceFC is it true none of your players a...       disgust\n",
              "24  @stevie7t Why does talksport sound like it's b...       disgust\n",
              "25  In wake of fresh #terror threat and sounding o...          fear\n",
              "26  @andreasarahco do you actually heely on campus...          fear\n",
              "27  @HMiglino @CParks777 @Coco_Wms @bodyfit67 @Tru...          fear\n",
              "28  That old lady is cray cray #scared #BellaIsSoC...          fear\n",
              "29               hi my names anxiety and i have shaun          fear\n",
              "30  Hope I sleep - no nightmare of Bakewell tarts ...          fear\n",
              "31  @KennyCoble @Rosie these horrific situations w...          fear\n",
              "32    @LeafyIsHere will showing off biceps scare you?          fear\n",
              "33  courage the cowardly dog is like american horr...          fear\n",
              "34  induction day tomorrow for pizza express #nervous          fear\n",
              "35  @SeanUnfiltered Texans are scared of this bunch!           fear\n",
              "36                    Now #India is #afraid of #bad .          fear\n",
              "37  if Man U lose i may actually have a nervous br...          fear\n",
              "38  No but that's so cute. Atsu was probably shy a...           joy\n",
              "39                          Manchester derby at home            joy\n",
              "40  her; i want a playful relationship\\nme; *kicks...           joy\n",
              "41  Happy birthday to Stephen King, a man responsi...           joy\n",
              "42  Thank you disney themed episode for letting me...           joy\n",
              "43  @RadioX @ChrisMoyles wow. not heard this in fo...           joy\n",
              "44  Happy Birthday, LOST! / #lost #dharmainitiativ...           joy\n",
              "45  #FF \\n\\n@The_Family_X \\n\\n#soul #blues &amp; #...           joy\n",
              "46  @MannersAboveAll *laughs louder this time, sha...           joy\n",
              "47                                    @TeamGrout glee           joy\n",
              "48  Mate the thing I get excited about in my profe...           joy\n",
              "49  @Mickeyplyler @QualkTalk the refs are in GT's ...           joy\n",
              "50   @niceoneWern @Alotta_Pain the gleesome threesome           joy\n",
              "51  All this from a cigarette burning in Laura's h...          love\n",
              "52                               It's meant to be!!            love\n",
              "53  I just got asked to hoco over instagram dm bc ...          love\n",
              "54  @Bietron 🤓 dont be sad.. btw good night davina...          love\n",
              "55  Focus on yourself. Don't let other's love defi...          love\n",
              "56  When the sadness leaves you broken in your bed...          love\n",
              "57  follow my girl tiff she only got 3 followers💖💘...          love\n",
              "58  Patti seems so sad. She stamped and ran behind...          love\n",
              "59  O you who have believed, fear Allah and believ...          love\n",
              "60  I saved him after ordering him to risk his lif...      optimism\n",
              "61  May the optimism of tomorrow be your foundatio...      optimism\n",
              "62  Why is it that we rejoice at a birth and griev...      optimism\n",
              "63  Gloriosa Bazigaga on #Rwanda work: 'I lost rel...      optimism\n",
              "64  The point of living, and being an optimist, is...      optimism\n",
              "65  I told my chiropractor 'I'm here for a good ti...      optimism\n",
              "66  i have so much hair it's a nightmare but it's ...      optimism\n",
              "67  Carry on my wayward son, there'll be peace whe...      optimism\n",
              "68  i was so embarrassed when she saw us i was lik...     pessimism\n",
              "69  @jeremycorbyn @magstogether my god is @jeremyc...     pessimism\n",
              "70  mmmm i'm kinda sad i hope i can shake this bef...     pessimism\n",
              "71  No one wants to win the wild card because you ...     pessimism\n",
              "72  @MendipHillsAONB do we think the swallows and ...     pessimism\n",
              "73  Wishing i was rich so i didnt have to get up t...     pessimism\n",
              "74  When will the weeks full of Mondays end?? #dis...     pessimism\n",
              "75  It’s possible changing meds is best not done w...       sadness\n",
              "76  so gutted i dropped one of my earrings down th...       sadness\n",
              "77  @antoboyle I so wish you could someday come to...       sadness\n",
              "78             Summer officially ends today. #sadness       sadness\n",
              "79  final vestiges of my 90's childhood were just ...       sadness\n",
              "80    I was not made for this world. #empath #unhappy       sadness\n",
              "81  finally leaving my first job soon. i've been w...       sadness\n",
              "82  will brawndo cure my depression? @MikeJudge #I...       sadness\n",
              "83  in health we did a think about depression and ...       sadness\n",
              "84  Muscled man with huge heart is messing with my...       sadness\n",
              "85  Texans and Astros both shut out tonight. Houst...       sadness\n",
              "86  On the last episode of #MakingAMurderer poor B...      surprise\n",
              "87  @thixotropic No. Was so sudden. Hasn't sunk in...      surprise\n",
              "88  Ronaldo has been shocking. He's tried to do sk...      surprise\n",
              "89  I'm so confused by the new American horror sto...      surprise\n",
              "90  #tulsa - Police manufacture murder... Wonder w...      surprise\n",
              "91  @holly_lolly7 I just have serious respect for ...         trust\n",
              "92  @WildRoverTours Thank you for follow and its a...         trust\n",
              "93  @tabstamlyn @lara_hunt1 I will, next time I'll...         trust\n",
              "94  @janhopis I found the first few episodes of Bo...         trust\n",
              "95  Riggs dumb ass hell lolol #hilarious #LethalWe...         trust\n",
              "96                        American Schools are lively         trust\n",
              "97  Accept the challenges so that you can feel the...         trust\n",
              "98  Have any of you ever stayed in hostels oversea...         trust\n",
              "99  @ProSyndicate thanks for replying, I'm ironing...         trust"
            ],
            "text/html": [
              "\n",
              "  <div id=\"df-b0978ce3-cdd4-4fb4-a65a-c7ec1a18aef8\" class=\"colab-df-container\">\n",
              "    <div>\n",
              "<style scoped>\n",
              "    .dataframe tbody tr th:only-of-type {\n",
              "        vertical-align: middle;\n",
              "    }\n",
              "\n",
              "    .dataframe tbody tr th {\n",
              "        vertical-align: top;\n",
              "    }\n",
              "\n",
              "    .dataframe thead th {\n",
              "        text-align: right;\n",
              "    }\n",
              "</style>\n",
              "<table border=\"1\" class=\"dataframe\">\n",
              "  <thead>\n",
              "    <tr style=\"text-align: right;\">\n",
              "      <th></th>\n",
              "      <th>Tweet</th>\n",
              "      <th>Emotion</th>\n",
              "    </tr>\n",
              "  </thead>\n",
              "  <tbody>\n",
              "    <tr>\n",
              "      <th>0</th>\n",
              "      <td>False alarm // matoma &amp;amp; Becky hill</td>\n",
              "      <td>anger</td>\n",
              "    </tr>\n",
              "    <tr>\n",
              "      <th>1</th>\n",
              "      <td>I'm tired of everybody telling me to chill out...</td>\n",
              "      <td>anger</td>\n",
              "    </tr>\n",
              "    <tr>\n",
              "      <th>2</th>\n",
              "      <td>Im so serious about putting words in my mouth ...</td>\n",
              "      <td>anger</td>\n",
              "    </tr>\n",
              "    <tr>\n",
              "      <th>3</th>\n",
              "      <td>Can someone make me a priority list of which t...</td>\n",
              "      <td>anger</td>\n",
              "    </tr>\n",
              "    <tr>\n",
              "      <th>4</th>\n",
              "      <td>@TeaPartyOrg Hes right when the Civil war star...</td>\n",
              "      <td>anger</td>\n",
              "    </tr>\n",
              "    <tr>\n",
              "      <th>5</th>\n",
              "      <td>From harboring Osama bin Laden to its relation...</td>\n",
              "      <td>anger</td>\n",
              "    </tr>\n",
              "    <tr>\n",
              "      <th>6</th>\n",
              "      <td>tomorrow will be the last episode of despair a...</td>\n",
              "      <td>anticipation</td>\n",
              "    </tr>\n",
              "    <tr>\n",
              "      <th>7</th>\n",
              "      <td>PASTOR - 15 FEET away from shooting victim dur...</td>\n",
              "      <td>anticipation</td>\n",
              "    </tr>\n",
              "    <tr>\n",
              "      <th>8</th>\n",
              "      <td>me: are you guys dating yet #trans #nervous #b...</td>\n",
              "      <td>anticipation</td>\n",
              "    </tr>\n",
              "    <tr>\n",
              "      <th>9</th>\n",
              "      <td>Collects all the times when Minerva would chew...</td>\n",
              "      <td>anticipation</td>\n",
              "    </tr>\n",
              "    <tr>\n",
              "      <th>10</th>\n",
              "      <td>10 page script due Friday for class. Who said ...</td>\n",
              "      <td>anticipation</td>\n",
              "    </tr>\n",
              "    <tr>\n",
              "      <th>11</th>\n",
              "      <td>Omg I actually thought she was going to jump. ...</td>\n",
              "      <td>anticipation</td>\n",
              "    </tr>\n",
              "    <tr>\n",
              "      <th>12</th>\n",
              "      <td>You don't know what to expect by Brendon's vid...</td>\n",
              "      <td>anticipation</td>\n",
              "    </tr>\n",
              "    <tr>\n",
              "      <th>13</th>\n",
              "      <td>@LaneWoolery @FFKazman experience all plays a ...</td>\n",
              "      <td>anticipation</td>\n",
              "    </tr>\n",
              "    <tr>\n",
              "      <th>14</th>\n",
              "      <td>@Montel_Williams If this ban goes through, it ...</td>\n",
              "      <td>disgust</td>\n",
              "    </tr>\n",
              "    <tr>\n",
              "      <th>15</th>\n",
              "      <td>@PatBlanchfield so you mean “like Uber but for...</td>\n",
              "      <td>disgust</td>\n",
              "    </tr>\n",
              "    <tr>\n",
              "      <th>16</th>\n",
              "      <td>This is awful</td>\n",
              "      <td>disgust</td>\n",
              "    </tr>\n",
              "    <tr>\n",
              "      <th>17</th>\n",
              "      <td>@thehill George H. Establishment is unhappy Tr...</td>\n",
              "      <td>disgust</td>\n",
              "    </tr>\n",
              "    <tr>\n",
              "      <th>18</th>\n",
              "      <td>Sky news still pushing the Brexit gloom line, ...</td>\n",
              "      <td>disgust</td>\n",
              "    </tr>\n",
              "    <tr>\n",
              "      <th>19</th>\n",
              "      <td>Leave it on there, rule,nimber 1 of carpet cle...</td>\n",
              "      <td>disgust</td>\n",
              "    </tr>\n",
              "    <tr>\n",
              "      <th>20</th>\n",
              "      <td>@vladfucker69 i look rabid</td>\n",
              "      <td>disgust</td>\n",
              "    </tr>\n",
              "    <tr>\n",
              "      <th>21</th>\n",
              "      <td>@MichaelSalfino It still destroys Fear The Wal...</td>\n",
              "      <td>disgust</td>\n",
              "    </tr>\n",
              "    <tr>\n",
              "      <th>22</th>\n",
              "      <td>@mcauley_ross rojo is awful</td>\n",
              "      <td>disgust</td>\n",
              "    </tr>\n",
              "    <tr>\n",
              "      <th>23</th>\n",
              "      <td>@MetPoliceFC is it true none of your players a...</td>\n",
              "      <td>disgust</td>\n",
              "    </tr>\n",
              "    <tr>\n",
              "      <th>24</th>\n",
              "      <td>@stevie7t Why does talksport sound like it's b...</td>\n",
              "      <td>disgust</td>\n",
              "    </tr>\n",
              "    <tr>\n",
              "      <th>25</th>\n",
              "      <td>In wake of fresh #terror threat and sounding o...</td>\n",
              "      <td>fear</td>\n",
              "    </tr>\n",
              "    <tr>\n",
              "      <th>26</th>\n",
              "      <td>@andreasarahco do you actually heely on campus...</td>\n",
              "      <td>fear</td>\n",
              "    </tr>\n",
              "    <tr>\n",
              "      <th>27</th>\n",
              "      <td>@HMiglino @CParks777 @Coco_Wms @bodyfit67 @Tru...</td>\n",
              "      <td>fear</td>\n",
              "    </tr>\n",
              "    <tr>\n",
              "      <th>28</th>\n",
              "      <td>That old lady is cray cray #scared #BellaIsSoC...</td>\n",
              "      <td>fear</td>\n",
              "    </tr>\n",
              "    <tr>\n",
              "      <th>29</th>\n",
              "      <td>hi my names anxiety and i have shaun</td>\n",
              "      <td>fear</td>\n",
              "    </tr>\n",
              "    <tr>\n",
              "      <th>30</th>\n",
              "      <td>Hope I sleep - no nightmare of Bakewell tarts ...</td>\n",
              "      <td>fear</td>\n",
              "    </tr>\n",
              "    <tr>\n",
              "      <th>31</th>\n",
              "      <td>@KennyCoble @Rosie these horrific situations w...</td>\n",
              "      <td>fear</td>\n",
              "    </tr>\n",
              "    <tr>\n",
              "      <th>32</th>\n",
              "      <td>@LeafyIsHere will showing off biceps scare you?</td>\n",
              "      <td>fear</td>\n",
              "    </tr>\n",
              "    <tr>\n",
              "      <th>33</th>\n",
              "      <td>courage the cowardly dog is like american horr...</td>\n",
              "      <td>fear</td>\n",
              "    </tr>\n",
              "    <tr>\n",
              "      <th>34</th>\n",
              "      <td>induction day tomorrow for pizza express #nervous</td>\n",
              "      <td>fear</td>\n",
              "    </tr>\n",
              "    <tr>\n",
              "      <th>35</th>\n",
              "      <td>@SeanUnfiltered Texans are scared of this bunch!</td>\n",
              "      <td>fear</td>\n",
              "    </tr>\n",
              "    <tr>\n",
              "      <th>36</th>\n",
              "      <td>Now #India is #afraid of #bad .</td>\n",
              "      <td>fear</td>\n",
              "    </tr>\n",
              "    <tr>\n",
              "      <th>37</th>\n",
              "      <td>if Man U lose i may actually have a nervous br...</td>\n",
              "      <td>fear</td>\n",
              "    </tr>\n",
              "    <tr>\n",
              "      <th>38</th>\n",
              "      <td>No but that's so cute. Atsu was probably shy a...</td>\n",
              "      <td>joy</td>\n",
              "    </tr>\n",
              "    <tr>\n",
              "      <th>39</th>\n",
              "      <td>Manchester derby at home</td>\n",
              "      <td>joy</td>\n",
              "    </tr>\n",
              "    <tr>\n",
              "      <th>40</th>\n",
              "      <td>her; i want a playful relationship\\nme; *kicks...</td>\n",
              "      <td>joy</td>\n",
              "    </tr>\n",
              "    <tr>\n",
              "      <th>41</th>\n",
              "      <td>Happy birthday to Stephen King, a man responsi...</td>\n",
              "      <td>joy</td>\n",
              "    </tr>\n",
              "    <tr>\n",
              "      <th>42</th>\n",
              "      <td>Thank you disney themed episode for letting me...</td>\n",
              "      <td>joy</td>\n",
              "    </tr>\n",
              "    <tr>\n",
              "      <th>43</th>\n",
              "      <td>@RadioX @ChrisMoyles wow. not heard this in fo...</td>\n",
              "      <td>joy</td>\n",
              "    </tr>\n",
              "    <tr>\n",
              "      <th>44</th>\n",
              "      <td>Happy Birthday, LOST! / #lost #dharmainitiativ...</td>\n",
              "      <td>joy</td>\n",
              "    </tr>\n",
              "    <tr>\n",
              "      <th>45</th>\n",
              "      <td>#FF \\n\\n@The_Family_X \\n\\n#soul #blues &amp;amp; #...</td>\n",
              "      <td>joy</td>\n",
              "    </tr>\n",
              "    <tr>\n",
              "      <th>46</th>\n",
              "      <td>@MannersAboveAll *laughs louder this time, sha...</td>\n",
              "      <td>joy</td>\n",
              "    </tr>\n",
              "    <tr>\n",
              "      <th>47</th>\n",
              "      <td>@TeamGrout glee</td>\n",
              "      <td>joy</td>\n",
              "    </tr>\n",
              "    <tr>\n",
              "      <th>48</th>\n",
              "      <td>Mate the thing I get excited about in my profe...</td>\n",
              "      <td>joy</td>\n",
              "    </tr>\n",
              "    <tr>\n",
              "      <th>49</th>\n",
              "      <td>@Mickeyplyler @QualkTalk the refs are in GT's ...</td>\n",
              "      <td>joy</td>\n",
              "    </tr>\n",
              "    <tr>\n",
              "      <th>50</th>\n",
              "      <td>@niceoneWern @Alotta_Pain the gleesome threesome</td>\n",
              "      <td>joy</td>\n",
              "    </tr>\n",
              "    <tr>\n",
              "      <th>51</th>\n",
              "      <td>All this from a cigarette burning in Laura's h...</td>\n",
              "      <td>love</td>\n",
              "    </tr>\n",
              "    <tr>\n",
              "      <th>52</th>\n",
              "      <td>It's meant to be!!</td>\n",
              "      <td>love</td>\n",
              "    </tr>\n",
              "    <tr>\n",
              "      <th>53</th>\n",
              "      <td>I just got asked to hoco over instagram dm bc ...</td>\n",
              "      <td>love</td>\n",
              "    </tr>\n",
              "    <tr>\n",
              "      <th>54</th>\n",
              "      <td>@Bietron 🤓 dont be sad.. btw good night davina...</td>\n",
              "      <td>love</td>\n",
              "    </tr>\n",
              "    <tr>\n",
              "      <th>55</th>\n",
              "      <td>Focus on yourself. Don't let other's love defi...</td>\n",
              "      <td>love</td>\n",
              "    </tr>\n",
              "    <tr>\n",
              "      <th>56</th>\n",
              "      <td>When the sadness leaves you broken in your bed...</td>\n",
              "      <td>love</td>\n",
              "    </tr>\n",
              "    <tr>\n",
              "      <th>57</th>\n",
              "      <td>follow my girl tiff she only got 3 followers💖💘...</td>\n",
              "      <td>love</td>\n",
              "    </tr>\n",
              "    <tr>\n",
              "      <th>58</th>\n",
              "      <td>Patti seems so sad. She stamped and ran behind...</td>\n",
              "      <td>love</td>\n",
              "    </tr>\n",
              "    <tr>\n",
              "      <th>59</th>\n",
              "      <td>O you who have believed, fear Allah and believ...</td>\n",
              "      <td>love</td>\n",
              "    </tr>\n",
              "    <tr>\n",
              "      <th>60</th>\n",
              "      <td>I saved him after ordering him to risk his lif...</td>\n",
              "      <td>optimism</td>\n",
              "    </tr>\n",
              "    <tr>\n",
              "      <th>61</th>\n",
              "      <td>May the optimism of tomorrow be your foundatio...</td>\n",
              "      <td>optimism</td>\n",
              "    </tr>\n",
              "    <tr>\n",
              "      <th>62</th>\n",
              "      <td>Why is it that we rejoice at a birth and griev...</td>\n",
              "      <td>optimism</td>\n",
              "    </tr>\n",
              "    <tr>\n",
              "      <th>63</th>\n",
              "      <td>Gloriosa Bazigaga on #Rwanda work: 'I lost rel...</td>\n",
              "      <td>optimism</td>\n",
              "    </tr>\n",
              "    <tr>\n",
              "      <th>64</th>\n",
              "      <td>The point of living, and being an optimist, is...</td>\n",
              "      <td>optimism</td>\n",
              "    </tr>\n",
              "    <tr>\n",
              "      <th>65</th>\n",
              "      <td>I told my chiropractor 'I'm here for a good ti...</td>\n",
              "      <td>optimism</td>\n",
              "    </tr>\n",
              "    <tr>\n",
              "      <th>66</th>\n",
              "      <td>i have so much hair it's a nightmare but it's ...</td>\n",
              "      <td>optimism</td>\n",
              "    </tr>\n",
              "    <tr>\n",
              "      <th>67</th>\n",
              "      <td>Carry on my wayward son, there'll be peace whe...</td>\n",
              "      <td>optimism</td>\n",
              "    </tr>\n",
              "    <tr>\n",
              "      <th>68</th>\n",
              "      <td>i was so embarrassed when she saw us i was lik...</td>\n",
              "      <td>pessimism</td>\n",
              "    </tr>\n",
              "    <tr>\n",
              "      <th>69</th>\n",
              "      <td>@jeremycorbyn @magstogether my god is @jeremyc...</td>\n",
              "      <td>pessimism</td>\n",
              "    </tr>\n",
              "    <tr>\n",
              "      <th>70</th>\n",
              "      <td>mmmm i'm kinda sad i hope i can shake this bef...</td>\n",
              "      <td>pessimism</td>\n",
              "    </tr>\n",
              "    <tr>\n",
              "      <th>71</th>\n",
              "      <td>No one wants to win the wild card because you ...</td>\n",
              "      <td>pessimism</td>\n",
              "    </tr>\n",
              "    <tr>\n",
              "      <th>72</th>\n",
              "      <td>@MendipHillsAONB do we think the swallows and ...</td>\n",
              "      <td>pessimism</td>\n",
              "    </tr>\n",
              "    <tr>\n",
              "      <th>73</th>\n",
              "      <td>Wishing i was rich so i didnt have to get up t...</td>\n",
              "      <td>pessimism</td>\n",
              "    </tr>\n",
              "    <tr>\n",
              "      <th>74</th>\n",
              "      <td>When will the weeks full of Mondays end?? #dis...</td>\n",
              "      <td>pessimism</td>\n",
              "    </tr>\n",
              "    <tr>\n",
              "      <th>75</th>\n",
              "      <td>It’s possible changing meds is best not done w...</td>\n",
              "      <td>sadness</td>\n",
              "    </tr>\n",
              "    <tr>\n",
              "      <th>76</th>\n",
              "      <td>so gutted i dropped one of my earrings down th...</td>\n",
              "      <td>sadness</td>\n",
              "    </tr>\n",
              "    <tr>\n",
              "      <th>77</th>\n",
              "      <td>@antoboyle I so wish you could someday come to...</td>\n",
              "      <td>sadness</td>\n",
              "    </tr>\n",
              "    <tr>\n",
              "      <th>78</th>\n",
              "      <td>Summer officially ends today. #sadness</td>\n",
              "      <td>sadness</td>\n",
              "    </tr>\n",
              "    <tr>\n",
              "      <th>79</th>\n",
              "      <td>final vestiges of my 90's childhood were just ...</td>\n",
              "      <td>sadness</td>\n",
              "    </tr>\n",
              "    <tr>\n",
              "      <th>80</th>\n",
              "      <td>I was not made for this world. #empath #unhappy</td>\n",
              "      <td>sadness</td>\n",
              "    </tr>\n",
              "    <tr>\n",
              "      <th>81</th>\n",
              "      <td>finally leaving my first job soon. i've been w...</td>\n",
              "      <td>sadness</td>\n",
              "    </tr>\n",
              "    <tr>\n",
              "      <th>82</th>\n",
              "      <td>will brawndo cure my depression? @MikeJudge #I...</td>\n",
              "      <td>sadness</td>\n",
              "    </tr>\n",
              "    <tr>\n",
              "      <th>83</th>\n",
              "      <td>in health we did a think about depression and ...</td>\n",
              "      <td>sadness</td>\n",
              "    </tr>\n",
              "    <tr>\n",
              "      <th>84</th>\n",
              "      <td>Muscled man with huge heart is messing with my...</td>\n",
              "      <td>sadness</td>\n",
              "    </tr>\n",
              "    <tr>\n",
              "      <th>85</th>\n",
              "      <td>Texans and Astros both shut out tonight. Houst...</td>\n",
              "      <td>sadness</td>\n",
              "    </tr>\n",
              "    <tr>\n",
              "      <th>86</th>\n",
              "      <td>On the last episode of #MakingAMurderer poor B...</td>\n",
              "      <td>surprise</td>\n",
              "    </tr>\n",
              "    <tr>\n",
              "      <th>87</th>\n",
              "      <td>@thixotropic No. Was so sudden. Hasn't sunk in...</td>\n",
              "      <td>surprise</td>\n",
              "    </tr>\n",
              "    <tr>\n",
              "      <th>88</th>\n",
              "      <td>Ronaldo has been shocking. He's tried to do sk...</td>\n",
              "      <td>surprise</td>\n",
              "    </tr>\n",
              "    <tr>\n",
              "      <th>89</th>\n",
              "      <td>I'm so confused by the new American horror sto...</td>\n",
              "      <td>surprise</td>\n",
              "    </tr>\n",
              "    <tr>\n",
              "      <th>90</th>\n",
              "      <td>#tulsa - Police manufacture murder... Wonder w...</td>\n",
              "      <td>surprise</td>\n",
              "    </tr>\n",
              "    <tr>\n",
              "      <th>91</th>\n",
              "      <td>@holly_lolly7 I just have serious respect for ...</td>\n",
              "      <td>trust</td>\n",
              "    </tr>\n",
              "    <tr>\n",
              "      <th>92</th>\n",
              "      <td>@WildRoverTours Thank you for follow and its a...</td>\n",
              "      <td>trust</td>\n",
              "    </tr>\n",
              "    <tr>\n",
              "      <th>93</th>\n",
              "      <td>@tabstamlyn @lara_hunt1 I will, next time I'll...</td>\n",
              "      <td>trust</td>\n",
              "    </tr>\n",
              "    <tr>\n",
              "      <th>94</th>\n",
              "      <td>@janhopis I found the first few episodes of Bo...</td>\n",
              "      <td>trust</td>\n",
              "    </tr>\n",
              "    <tr>\n",
              "      <th>95</th>\n",
              "      <td>Riggs dumb ass hell lolol #hilarious #LethalWe...</td>\n",
              "      <td>trust</td>\n",
              "    </tr>\n",
              "    <tr>\n",
              "      <th>96</th>\n",
              "      <td>American Schools are lively</td>\n",
              "      <td>trust</td>\n",
              "    </tr>\n",
              "    <tr>\n",
              "      <th>97</th>\n",
              "      <td>Accept the challenges so that you can feel the...</td>\n",
              "      <td>trust</td>\n",
              "    </tr>\n",
              "    <tr>\n",
              "      <th>98</th>\n",
              "      <td>Have any of you ever stayed in hostels oversea...</td>\n",
              "      <td>trust</td>\n",
              "    </tr>\n",
              "    <tr>\n",
              "      <th>99</th>\n",
              "      <td>@ProSyndicate thanks for replying, I'm ironing...</td>\n",
              "      <td>trust</td>\n",
              "    </tr>\n",
              "  </tbody>\n",
              "</table>\n",
              "</div>\n",
              "    <div class=\"colab-df-buttons\">\n",
              "\n",
              "  <div class=\"colab-df-container\">\n",
              "    <button class=\"colab-df-convert\" onclick=\"convertToInteractive('df-b0978ce3-cdd4-4fb4-a65a-c7ec1a18aef8')\"\n",
              "            title=\"Convert this dataframe to an interactive table.\"\n",
              "            style=\"display:none;\">\n",
              "\n",
              "  <svg xmlns=\"http://www.w3.org/2000/svg\" height=\"24px\" viewBox=\"0 -960 960 960\">\n",
              "    <path d=\"M120-120v-720h720v720H120Zm60-500h600v-160H180v160Zm220 220h160v-160H400v160Zm0 220h160v-160H400v160ZM180-400h160v-160H180v160Zm440 0h160v-160H620v160ZM180-180h160v-160H180v160Zm440 0h160v-160H620v160Z\"/>\n",
              "  </svg>\n",
              "    </button>\n",
              "\n",
              "  <style>\n",
              "    .colab-df-container {\n",
              "      display:flex;\n",
              "      gap: 12px;\n",
              "    }\n",
              "\n",
              "    .colab-df-convert {\n",
              "      background-color: #E8F0FE;\n",
              "      border: none;\n",
              "      border-radius: 50%;\n",
              "      cursor: pointer;\n",
              "      display: none;\n",
              "      fill: #1967D2;\n",
              "      height: 32px;\n",
              "      padding: 0 0 0 0;\n",
              "      width: 32px;\n",
              "    }\n",
              "\n",
              "    .colab-df-convert:hover {\n",
              "      background-color: #E2EBFA;\n",
              "      box-shadow: 0px 1px 2px rgba(60, 64, 67, 0.3), 0px 1px 3px 1px rgba(60, 64, 67, 0.15);\n",
              "      fill: #174EA6;\n",
              "    }\n",
              "\n",
              "    .colab-df-buttons div {\n",
              "      margin-bottom: 4px;\n",
              "    }\n",
              "\n",
              "    [theme=dark] .colab-df-convert {\n",
              "      background-color: #3B4455;\n",
              "      fill: #D2E3FC;\n",
              "    }\n",
              "\n",
              "    [theme=dark] .colab-df-convert:hover {\n",
              "      background-color: #434B5C;\n",
              "      box-shadow: 0px 1px 3px 1px rgba(0, 0, 0, 0.15);\n",
              "      filter: drop-shadow(0px 1px 2px rgba(0, 0, 0, 0.3));\n",
              "      fill: #FFFFFF;\n",
              "    }\n",
              "  </style>\n",
              "\n",
              "    <script>\n",
              "      const buttonEl =\n",
              "        document.querySelector('#df-b0978ce3-cdd4-4fb4-a65a-c7ec1a18aef8 button.colab-df-convert');\n",
              "      buttonEl.style.display =\n",
              "        google.colab.kernel.accessAllowed ? 'block' : 'none';\n",
              "\n",
              "      async function convertToInteractive(key) {\n",
              "        const element = document.querySelector('#df-b0978ce3-cdd4-4fb4-a65a-c7ec1a18aef8');\n",
              "        const dataTable =\n",
              "          await google.colab.kernel.invokeFunction('convertToInteractive',\n",
              "                                                    [key], {});\n",
              "        if (!dataTable) return;\n",
              "\n",
              "        const docLinkHtml = 'Like what you see? Visit the ' +\n",
              "          '<a target=\"_blank\" href=https://colab.research.google.com/notebooks/data_table.ipynb>data table notebook</a>'\n",
              "          + ' to learn more about interactive tables.';\n",
              "        element.innerHTML = '';\n",
              "        dataTable['output_type'] = 'display_data';\n",
              "        await google.colab.output.renderOutput(dataTable, element);\n",
              "        const docLink = document.createElement('div');\n",
              "        docLink.innerHTML = docLinkHtml;\n",
              "        element.appendChild(docLink);\n",
              "      }\n",
              "    </script>\n",
              "  </div>\n",
              "\n",
              "\n",
              "<div id=\"df-57f70f36-91f4-491b-aa61-fc8d4e2bf727\">\n",
              "  <button class=\"colab-df-quickchart\" onclick=\"quickchart('df-57f70f36-91f4-491b-aa61-fc8d4e2bf727')\"\n",
              "            title=\"Suggest charts\"\n",
              "            style=\"display:none;\">\n",
              "\n",
              "<svg xmlns=\"http://www.w3.org/2000/svg\" height=\"24px\"viewBox=\"0 0 24 24\"\n",
              "     width=\"24px\">\n",
              "    <g>\n",
              "        <path d=\"M19 3H5c-1.1 0-2 .9-2 2v14c0 1.1.9 2 2 2h14c1.1 0 2-.9 2-2V5c0-1.1-.9-2-2-2zM9 17H7v-7h2v7zm4 0h-2V7h2v10zm4 0h-2v-4h2v4z\"/>\n",
              "    </g>\n",
              "</svg>\n",
              "  </button>\n",
              "\n",
              "<style>\n",
              "  .colab-df-quickchart {\n",
              "      --bg-color: #E8F0FE;\n",
              "      --fill-color: #1967D2;\n",
              "      --hover-bg-color: #E2EBFA;\n",
              "      --hover-fill-color: #174EA6;\n",
              "      --disabled-fill-color: #AAA;\n",
              "      --disabled-bg-color: #DDD;\n",
              "  }\n",
              "\n",
              "  [theme=dark] .colab-df-quickchart {\n",
              "      --bg-color: #3B4455;\n",
              "      --fill-color: #D2E3FC;\n",
              "      --hover-bg-color: #434B5C;\n",
              "      --hover-fill-color: #FFFFFF;\n",
              "      --disabled-bg-color: #3B4455;\n",
              "      --disabled-fill-color: #666;\n",
              "  }\n",
              "\n",
              "  .colab-df-quickchart {\n",
              "    background-color: var(--bg-color);\n",
              "    border: none;\n",
              "    border-radius: 50%;\n",
              "    cursor: pointer;\n",
              "    display: none;\n",
              "    fill: var(--fill-color);\n",
              "    height: 32px;\n",
              "    padding: 0;\n",
              "    width: 32px;\n",
              "  }\n",
              "\n",
              "  .colab-df-quickchart:hover {\n",
              "    background-color: var(--hover-bg-color);\n",
              "    box-shadow: 0 1px 2px rgba(60, 64, 67, 0.3), 0 1px 3px 1px rgba(60, 64, 67, 0.15);\n",
              "    fill: var(--button-hover-fill-color);\n",
              "  }\n",
              "\n",
              "  .colab-df-quickchart-complete:disabled,\n",
              "  .colab-df-quickchart-complete:disabled:hover {\n",
              "    background-color: var(--disabled-bg-color);\n",
              "    fill: var(--disabled-fill-color);\n",
              "    box-shadow: none;\n",
              "  }\n",
              "\n",
              "  .colab-df-spinner {\n",
              "    border: 2px solid var(--fill-color);\n",
              "    border-color: transparent;\n",
              "    border-bottom-color: var(--fill-color);\n",
              "    animation:\n",
              "      spin 1s steps(1) infinite;\n",
              "  }\n",
              "\n",
              "  @keyframes spin {\n",
              "    0% {\n",
              "      border-color: transparent;\n",
              "      border-bottom-color: var(--fill-color);\n",
              "      border-left-color: var(--fill-color);\n",
              "    }\n",
              "    20% {\n",
              "      border-color: transparent;\n",
              "      border-left-color: var(--fill-color);\n",
              "      border-top-color: var(--fill-color);\n",
              "    }\n",
              "    30% {\n",
              "      border-color: transparent;\n",
              "      border-left-color: var(--fill-color);\n",
              "      border-top-color: var(--fill-color);\n",
              "      border-right-color: var(--fill-color);\n",
              "    }\n",
              "    40% {\n",
              "      border-color: transparent;\n",
              "      border-right-color: var(--fill-color);\n",
              "      border-top-color: var(--fill-color);\n",
              "    }\n",
              "    60% {\n",
              "      border-color: transparent;\n",
              "      border-right-color: var(--fill-color);\n",
              "    }\n",
              "    80% {\n",
              "      border-color: transparent;\n",
              "      border-right-color: var(--fill-color);\n",
              "      border-bottom-color: var(--fill-color);\n",
              "    }\n",
              "    90% {\n",
              "      border-color: transparent;\n",
              "      border-bottom-color: var(--fill-color);\n",
              "    }\n",
              "  }\n",
              "</style>\n",
              "\n",
              "  <script>\n",
              "    async function quickchart(key) {\n",
              "      const quickchartButtonEl =\n",
              "        document.querySelector('#' + key + ' button');\n",
              "      quickchartButtonEl.disabled = true;  // To prevent multiple clicks.\n",
              "      quickchartButtonEl.classList.add('colab-df-spinner');\n",
              "      try {\n",
              "        const charts = await google.colab.kernel.invokeFunction(\n",
              "            'suggestCharts', [key], {});\n",
              "      } catch (error) {\n",
              "        console.error('Error during call to suggestCharts:', error);\n",
              "      }\n",
              "      quickchartButtonEl.classList.remove('colab-df-spinner');\n",
              "      quickchartButtonEl.classList.add('colab-df-quickchart-complete');\n",
              "    }\n",
              "    (() => {\n",
              "      let quickchartButtonEl =\n",
              "        document.querySelector('#df-57f70f36-91f4-491b-aa61-fc8d4e2bf727 button');\n",
              "      quickchartButtonEl.style.display =\n",
              "        google.colab.kernel.accessAllowed ? 'block' : 'none';\n",
              "    })();\n",
              "  </script>\n",
              "</div>\n",
              "\n",
              "  <div id=\"id_c5bdbc9e-225a-4c4b-abb1-731d204a5b78\">\n",
              "    <style>\n",
              "      .colab-df-generate {\n",
              "        background-color: #E8F0FE;\n",
              "        border: none;\n",
              "        border-radius: 50%;\n",
              "        cursor: pointer;\n",
              "        display: none;\n",
              "        fill: #1967D2;\n",
              "        height: 32px;\n",
              "        padding: 0 0 0 0;\n",
              "        width: 32px;\n",
              "      }\n",
              "\n",
              "      .colab-df-generate:hover {\n",
              "        background-color: #E2EBFA;\n",
              "        box-shadow: 0px 1px 2px rgba(60, 64, 67, 0.3), 0px 1px 3px 1px rgba(60, 64, 67, 0.15);\n",
              "        fill: #174EA6;\n",
              "      }\n",
              "\n",
              "      [theme=dark] .colab-df-generate {\n",
              "        background-color: #3B4455;\n",
              "        fill: #D2E3FC;\n",
              "      }\n",
              "\n",
              "      [theme=dark] .colab-df-generate:hover {\n",
              "        background-color: #434B5C;\n",
              "        box-shadow: 0px 1px 3px 1px rgba(0, 0, 0, 0.15);\n",
              "        filter: drop-shadow(0px 1px 2px rgba(0, 0, 0, 0.3));\n",
              "        fill: #FFFFFF;\n",
              "      }\n",
              "    </style>\n",
              "    <button class=\"colab-df-generate\" onclick=\"generateWithVariable('data')\"\n",
              "            title=\"Generate code using this dataframe.\"\n",
              "            style=\"display:none;\">\n",
              "\n",
              "  <svg xmlns=\"http://www.w3.org/2000/svg\" height=\"24px\"viewBox=\"0 0 24 24\"\n",
              "       width=\"24px\">\n",
              "    <path d=\"M7,19H8.4L18.45,9,17,7.55,7,17.6ZM5,21V16.75L18.45,3.32a2,2,0,0,1,2.83,0l1.4,1.43a1.91,1.91,0,0,1,.58,1.4,1.91,1.91,0,0,1-.58,1.4L9.25,21ZM18.45,9,17,7.55Zm-12,3A5.31,5.31,0,0,0,4.9,8.1,5.31,5.31,0,0,0,1,6.5,5.31,5.31,0,0,0,4.9,4.9,5.31,5.31,0,0,0,6.5,1,5.31,5.31,0,0,0,8.1,4.9,5.31,5.31,0,0,0,12,6.5,5.46,5.46,0,0,0,6.5,12Z\"/>\n",
              "  </svg>\n",
              "    </button>\n",
              "    <script>\n",
              "      (() => {\n",
              "      const buttonEl =\n",
              "        document.querySelector('#id_c5bdbc9e-225a-4c4b-abb1-731d204a5b78 button.colab-df-generate');\n",
              "      buttonEl.style.display =\n",
              "        google.colab.kernel.accessAllowed ? 'block' : 'none';\n",
              "\n",
              "      buttonEl.onclick = () => {\n",
              "        google.colab.notebook.generateWithVariable('data');\n",
              "      }\n",
              "      })();\n",
              "    </script>\n",
              "  </div>\n",
              "\n",
              "    </div>\n",
              "  </div>\n"
            ],
            "application/vnd.google.colaboratory.intrinsic+json": {
              "type": "dataframe",
              "variable_name": "data",
              "summary": "{\n  \"name\": \"data\",\n  \"rows\": 100,\n  \"fields\": [\n    {\n      \"column\": \"Tweet\",\n      \"properties\": {\n        \"dtype\": \"string\",\n        \"num_unique_values\": 100,\n        \"samples\": [\n          \"in health we did a think about depression and now i feel like i have it\",\n          \"I just got asked to hoco over instagram dm bc someone lost a bet. Love the maturity of the people in my grade!!!!\",\n          \"mmmm i'm kinda sad i hope i can shake this before school\"\n        ],\n        \"semantic_type\": \"\",\n        \"description\": \"\"\n      }\n    },\n    {\n      \"column\": \"Emotion\",\n      \"properties\": {\n        \"dtype\": \"category\",\n        \"num_unique_values\": 11,\n        \"samples\": [\n          \"love\",\n          \"anger\",\n          \"surprise\"\n        ],\n        \"semantic_type\": \"\",\n        \"description\": \"\"\n      }\n    }\n  ]\n}"
            }
          },
          "metadata": {},
          "execution_count": 18
        }
      ]
    },
    {
      "cell_type": "markdown",
      "source": [
        "## **Step 3.4: Drop rows with NaN values in the text column**"
      ],
      "metadata": {
        "id": "BU999MRFAhDD"
      }
    },
    {
      "cell_type": "code",
      "source": [
        "# Sample data without Droping Rows with NAN Values\n",
        "print(len(data))"
      ],
      "metadata": {
        "colab": {
          "base_uri": "https://localhost:8080/"
        },
        "id": "wPN2tPh4Ai7b",
        "outputId": "0ba96267-9a01-4ff2-f6d6-ecf06705e5bf"
      },
      "execution_count": 19,
      "outputs": [
        {
          "output_type": "stream",
          "name": "stdout",
          "text": [
            "100\n"
          ]
        }
      ]
    },
    {
      "cell_type": "code",
      "source": [
        "# Drop rows with NaN values in the text column\n",
        "data = data.dropna(subset=['Emotion'])"
      ],
      "metadata": {
        "id": "YAYduXXmAqJN"
      },
      "execution_count": 21,
      "outputs": []
    },
    {
      "cell_type": "code",
      "source": [
        "# Sample data After Droping Rows with NAN Values\n",
        "print(len(data))"
      ],
      "metadata": {
        "colab": {
          "base_uri": "https://localhost:8080/"
        },
        "id": "0r_0zWAtAxvk",
        "outputId": "6628551d-d2e3-4316-a3b4-800fe10ea02b"
      },
      "execution_count": 22,
      "outputs": [
        {
          "output_type": "stream",
          "name": "stdout",
          "text": [
            "100\n"
          ]
        }
      ]
    },
    {
      "cell_type": "markdown",
      "source": [
        "## **Step 3.5: Apply Data Cleaning**"
      ],
      "metadata": {
        "id": "9joLldldA20a"
      }
    },
    {
      "cell_type": "code",
      "source": [
        "data['Emotion']"
      ],
      "metadata": {
        "colab": {
          "base_uri": "https://localhost:8080/"
        },
        "id": "0KhLB0m-A8UR",
        "outputId": "2af5d433-566e-4446-c3f2-99b40e587dca"
      },
      "execution_count": 23,
      "outputs": [
        {
          "output_type": "execute_result",
          "data": {
            "text/plain": [
              "0            anger\n",
              "1            anger\n",
              "2            anger\n",
              "3            anger\n",
              "4            anger\n",
              "5            anger\n",
              "6     anticipation\n",
              "7     anticipation\n",
              "8     anticipation\n",
              "9     anticipation\n",
              "10    anticipation\n",
              "11    anticipation\n",
              "12    anticipation\n",
              "13    anticipation\n",
              "14         disgust\n",
              "15         disgust\n",
              "16         disgust\n",
              "17         disgust\n",
              "18         disgust\n",
              "19         disgust\n",
              "20         disgust\n",
              "21         disgust\n",
              "22         disgust\n",
              "23         disgust\n",
              "24         disgust\n",
              "25            fear\n",
              "26            fear\n",
              "27            fear\n",
              "28            fear\n",
              "29            fear\n",
              "30            fear\n",
              "31            fear\n",
              "32            fear\n",
              "33            fear\n",
              "34            fear\n",
              "35            fear\n",
              "36            fear\n",
              "37            fear\n",
              "38             joy\n",
              "39             joy\n",
              "40             joy\n",
              "41             joy\n",
              "42             joy\n",
              "43             joy\n",
              "44             joy\n",
              "45             joy\n",
              "46             joy\n",
              "47             joy\n",
              "48             joy\n",
              "49             joy\n",
              "50             joy\n",
              "51            love\n",
              "52            love\n",
              "53            love\n",
              "54            love\n",
              "55            love\n",
              "56            love\n",
              "57            love\n",
              "58            love\n",
              "59            love\n",
              "60        optimism\n",
              "61        optimism\n",
              "62        optimism\n",
              "63        optimism\n",
              "64        optimism\n",
              "65        optimism\n",
              "66        optimism\n",
              "67        optimism\n",
              "68       pessimism\n",
              "69       pessimism\n",
              "70       pessimism\n",
              "71       pessimism\n",
              "72       pessimism\n",
              "73       pessimism\n",
              "74       pessimism\n",
              "75         sadness\n",
              "76         sadness\n",
              "77         sadness\n",
              "78         sadness\n",
              "79         sadness\n",
              "80         sadness\n",
              "81         sadness\n",
              "82         sadness\n",
              "83         sadness\n",
              "84         sadness\n",
              "85         sadness\n",
              "86        surprise\n",
              "87        surprise\n",
              "88        surprise\n",
              "89        surprise\n",
              "90        surprise\n",
              "91           trust\n",
              "92           trust\n",
              "93           trust\n",
              "94           trust\n",
              "95           trust\n",
              "96           trust\n",
              "97           trust\n",
              "98           trust\n",
              "99           trust\n",
              "Name: Emotion, dtype: object"
            ]
          },
          "metadata": {},
          "execution_count": 23
        }
      ]
    },
    {
      "cell_type": "code",
      "source": [
        "data['Tweet']"
      ],
      "metadata": {
        "colab": {
          "base_uri": "https://localhost:8080/"
        },
        "id": "cZB_LQgvBIwc",
        "outputId": "1875a9ad-d318-4e42-dfd3-fddf9ed2d4e6"
      },
      "execution_count": 25,
      "outputs": [
        {
          "output_type": "execute_result",
          "data": {
            "text/plain": [
              "0                False alarm // matoma &amp; Becky hill\n",
              "1     I'm tired of everybody telling me to chill out...\n",
              "2     Im so serious about putting words in my mouth ...\n",
              "3     Can someone make me a priority list of which t...\n",
              "4     @TeaPartyOrg Hes right when the Civil war star...\n",
              "5     From harboring Osama bin Laden to its relation...\n",
              "6     tomorrow will be the last episode of despair a...\n",
              "7     PASTOR - 15 FEET away from shooting victim dur...\n",
              "8     me: are you guys dating yet #trans #nervous #b...\n",
              "9     Collects all the times when Minerva would chew...\n",
              "10    10 page script due Friday for class. Who said ...\n",
              "11    Omg I actually thought she was going to jump. ...\n",
              "12    You don't know what to expect by Brendon's vid...\n",
              "13    @LaneWoolery @FFKazman experience all plays a ...\n",
              "14    @Montel_Williams If this ban goes through, it ...\n",
              "15    @PatBlanchfield so you mean “like Uber but for...\n",
              "16                                        This is awful\n",
              "17    @thehill George H. Establishment is unhappy Tr...\n",
              "18    Sky news still pushing the Brexit gloom line, ...\n",
              "19    Leave it on there, rule,nimber 1 of carpet cle...\n",
              "20                           @vladfucker69 i look rabid\n",
              "21    @MichaelSalfino It still destroys Fear The Wal...\n",
              "22                          @mcauley_ross rojo is awful\n",
              "23    @MetPoliceFC is it true none of your players a...\n",
              "24    @stevie7t Why does talksport sound like it's b...\n",
              "25    In wake of fresh #terror threat and sounding o...\n",
              "26    @andreasarahco do you actually heely on campus...\n",
              "27    @HMiglino @CParks777 @Coco_Wms @bodyfit67 @Tru...\n",
              "28    That old lady is cray cray #scared #BellaIsSoC...\n",
              "29                 hi my names anxiety and i have shaun\n",
              "30    Hope I sleep - no nightmare of Bakewell tarts ...\n",
              "31    @KennyCoble @Rosie these horrific situations w...\n",
              "32      @LeafyIsHere will showing off biceps scare you?\n",
              "33    courage the cowardly dog is like american horr...\n",
              "34    induction day tomorrow for pizza express #nervous\n",
              "35    @SeanUnfiltered Texans are scared of this bunch! \n",
              "36                      Now #India is #afraid of #bad .\n",
              "37    if Man U lose i may actually have a nervous br...\n",
              "38    No but that's so cute. Atsu was probably shy a...\n",
              "39                            Manchester derby at home \n",
              "40    her; i want a playful relationship\\nme; *kicks...\n",
              "41    Happy birthday to Stephen King, a man responsi...\n",
              "42    Thank you disney themed episode for letting me...\n",
              "43    @RadioX @ChrisMoyles wow. not heard this in fo...\n",
              "44    Happy Birthday, LOST! / #lost #dharmainitiativ...\n",
              "45    #FF \\n\\n@The_Family_X \\n\\n#soul #blues &amp; #...\n",
              "46    @MannersAboveAll *laughs louder this time, sha...\n",
              "47                                      @TeamGrout glee\n",
              "48    Mate the thing I get excited about in my profe...\n",
              "49    @Mickeyplyler @QualkTalk the refs are in GT's ...\n",
              "50     @niceoneWern @Alotta_Pain the gleesome threesome\n",
              "51    All this from a cigarette burning in Laura's h...\n",
              "52                                 It's meant to be!!  \n",
              "53    I just got asked to hoco over instagram dm bc ...\n",
              "54    @Bietron 🤓 dont be sad.. btw good night davina...\n",
              "55    Focus on yourself. Don't let other's love defi...\n",
              "56    When the sadness leaves you broken in your bed...\n",
              "57    follow my girl tiff she only got 3 followers💖💘...\n",
              "58    Patti seems so sad. She stamped and ran behind...\n",
              "59    O you who have believed, fear Allah and believ...\n",
              "60    I saved him after ordering him to risk his lif...\n",
              "61    May the optimism of tomorrow be your foundatio...\n",
              "62    Why is it that we rejoice at a birth and griev...\n",
              "63    Gloriosa Bazigaga on #Rwanda work: 'I lost rel...\n",
              "64    The point of living, and being an optimist, is...\n",
              "65    I told my chiropractor 'I'm here for a good ti...\n",
              "66    i have so much hair it's a nightmare but it's ...\n",
              "67    Carry on my wayward son, there'll be peace whe...\n",
              "68    i was so embarrassed when she saw us i was lik...\n",
              "69    @jeremycorbyn @magstogether my god is @jeremyc...\n",
              "70    mmmm i'm kinda sad i hope i can shake this bef...\n",
              "71    No one wants to win the wild card because you ...\n",
              "72    @MendipHillsAONB do we think the swallows and ...\n",
              "73    Wishing i was rich so i didnt have to get up t...\n",
              "74    When will the weeks full of Mondays end?? #dis...\n",
              "75    It’s possible changing meds is best not done w...\n",
              "76    so gutted i dropped one of my earrings down th...\n",
              "77    @antoboyle I so wish you could someday come to...\n",
              "78               Summer officially ends today. #sadness\n",
              "79    final vestiges of my 90's childhood were just ...\n",
              "80      I was not made for this world. #empath #unhappy\n",
              "81    finally leaving my first job soon. i've been w...\n",
              "82    will brawndo cure my depression? @MikeJudge #I...\n",
              "83    in health we did a think about depression and ...\n",
              "84    Muscled man with huge heart is messing with my...\n",
              "85    Texans and Astros both shut out tonight. Houst...\n",
              "86    On the last episode of #MakingAMurderer poor B...\n",
              "87    @thixotropic No. Was so sudden. Hasn't sunk in...\n",
              "88    Ronaldo has been shocking. He's tried to do sk...\n",
              "89    I'm so confused by the new American horror sto...\n",
              "90    #tulsa - Police manufacture murder... Wonder w...\n",
              "91    @holly_lolly7 I just have serious respect for ...\n",
              "92    @WildRoverTours Thank you for follow and its a...\n",
              "93    @tabstamlyn @lara_hunt1 I will, next time I'll...\n",
              "94    @janhopis I found the first few episodes of Bo...\n",
              "95    Riggs dumb ass hell lolol #hilarious #LethalWe...\n",
              "96                          American Schools are lively\n",
              "97    Accept the challenges so that you can feel the...\n",
              "98    Have any of you ever stayed in hostels oversea...\n",
              "99    @ProSyndicate thanks for replying, I'm ironing...\n",
              "Name: Tweet, dtype: object"
            ]
          },
          "metadata": {},
          "execution_count": 25
        }
      ]
    },
    {
      "cell_type": "markdown",
      "source": [
        "**Apply function to remove symbols and numbers**"
      ],
      "metadata": {
        "id": "UsT2xjPdBfwW"
      }
    },
    {
      "cell_type": "code",
      "source": [
        "data['Tweet'] = data['Tweet'].apply(remove_symbols_numbers)"
      ],
      "metadata": {
        "id": "NsqKE5aABhsw"
      },
      "execution_count": 26,
      "outputs": []
    },
    {
      "cell_type": "markdown",
      "source": [
        "**See data again to see the implementation of removal of symbols and numbers**"
      ],
      "metadata": {
        "id": "0QiOuWN6Bt5v"
      }
    },
    {
      "cell_type": "code",
      "source": [
        "data['Tweet']"
      ],
      "metadata": {
        "colab": {
          "base_uri": "https://localhost:8080/"
        },
        "id": "tUEmw8_9B4OG",
        "outputId": "d20bf254-626c-4e4a-c825-5df1afa04528"
      },
      "execution_count": 28,
      "outputs": [
        {
          "output_type": "execute_result",
          "data": {
            "text/plain": [
              "0                    False alarm  matoma amp Becky hill\n",
              "1     Im tired of everybody telling me to chill out ...\n",
              "2     Im so serious about putting words in my mouth ...\n",
              "3     Can someone make me a priority list of which t...\n",
              "4     TeaPartyOrg Hes right when the Civil war start...\n",
              "5     From harboring Osama bin Laden to its relation...\n",
              "6     tomorrow will be the last episode of despair a...\n",
              "7     PASTOR   FEET away from shooting victim during...\n",
              "8     me are you guys dating yet trans nervous blowj...\n",
              "9     Collects all the times when Minerva would chew...\n",
              "10     page script due Friday for class Who said I c...\n",
              "11    Omg I actually thought she was going to jump  ...\n",
              "12    You dont know what to expect by Brendons video...\n",
              "13    LaneWoolery FFKazman experience all plays a ro...\n",
              "14    MontelWilliams If this ban goes through it wil...\n",
              "15    PatBlanchfield so you mean like Uber but for d...\n",
              "16                                        This is awful\n",
              "17    thehill George H Establishment is unhappy Trum...\n",
              "18    Sky news still pushing the Brexit gloom line m...\n",
              "19    Leave it on there rulenimber  of carpet cleani...\n",
              "20                              vladfucker i look rabid\n",
              "21    MichaelSalfino It still destroys Fear The Walk...\n",
              "22                            mcauleyross rojo is awful\n",
              "23    MetPoliceFC is it true none of your players ar...\n",
              "24    steviet Why does talksport sound like its bein...\n",
              "25    In wake of fresh terror threat and sounding of...\n",
              "26    andreasarahco do you actually heely on campus ...\n",
              "27    HMiglino CParks CocoWms bodyfit TruthEqualsFac...\n",
              "28    That old lady is cray cray scared BellaIsSoCut...\n",
              "29                 hi my names anxiety and i have shaun\n",
              "30    Hope I sleep  no nightmare of Bakewell tarts y...\n",
              "31    KennyCoble Rosie these horrific situations wil...\n",
              "32        LeafyIsHere will showing off biceps scare you\n",
              "33    courage the cowardly dog is like american horr...\n",
              "34     induction day tomorrow for pizza express nervous\n",
              "35      SeanUnfiltered Texans are scared of this bunch \n",
              "36                          Now India is afraid of bad \n",
              "37    if Man U lose i may actually have a nervous br...\n",
              "38    No but thats so cute Atsu was probably shy abo...\n",
              "39                            Manchester derby at home \n",
              "40    her i want a playful relationshipnme kicks her...\n",
              "41    Happy birthday to Stephen King a man responsib...\n",
              "42    Thank you disney themed episode for letting me...\n",
              "43    RadioX ChrisMoyles wow not heard this in forev...\n",
              "44    Happy Birthday LOST  lost dharmainitiative yea...\n",
              "45    FF nnTheFamilyX nnsoul blues amp rock bandnnmu...\n",
              "46    MannersAboveAll laughs louder this time shakin...\n",
              "47                                       TeamGrout glee\n",
              "48    Mate the thing I get excited about in my profe...\n",
              "49    Mickeyplyler QualkTalk the refs are in GTs fav...\n",
              "50        niceoneWern AlottaPain the gleesome threesome\n",
              "51    All this from a cigarette burning in Lauras ha...\n",
              "52                                    Its meant to be  \n",
              "53    I just got asked to hoco over instagram dm bc ...\n",
              "54    Bietron  dont be sad btw good night davinago s...\n",
              "55    Focus on yourself Dont let others love define ...\n",
              "56    When the sadness leaves you broken in your bed...\n",
              "57    follow my girl tiff she only got  followers ti...\n",
              "58    Patti seems so sad She stamped and ran behind ...\n",
              "59    O you who have believed fear Allah and believe...\n",
              "60    I saved him after ordering him to risk his lif...\n",
              "61    May the optimism of tomorrow be your foundatio...\n",
              "62    Why is it that we rejoice at a birth and griev...\n",
              "63    Gloriosa Bazigaga on Rwanda work I lost relati...\n",
              "64    The point of living and being an optimist is t...\n",
              "65    I told my chiropractor Im here for a good time...\n",
              "66    i have so much hair its a nightmare but its al...\n",
              "67    Carry on my wayward son therell be peace when ...\n",
              "68    i was so embarrassed when she saw us i was lik...\n",
              "69    jeremycorbyn magstogether my god is jeremycorb...\n",
              "70    mmmm im kinda sad i hope i can shake this befo...\n",
              "71    No one wants to win the wild card because you ...\n",
              "72    MendipHillsAONB do we think the swallows and s...\n",
              "73    Wishing i was rich so i didnt have to get up t...\n",
              "74    When will the weeks full of Mondays end dishea...\n",
              "75    Its possible changing meds is best not done wh...\n",
              "76    so gutted i dropped one of my earrings down th...\n",
              "77    antoboyle I so wish you could someday come to ...\n",
              "78                 Summer officially ends today sadness\n",
              "79    final vestiges of my s childhood were just das...\n",
              "80         I was not made for this world empath unhappy\n",
              "81    finally leaving my first job soon ive been wor...\n",
              "82    will brawndo cure my depression MikeJudge Idio...\n",
              "83    in health we did a think about depression and ...\n",
              "84    Muscled man with huge heart is messing with my...\n",
              "85    Texans and Astros both shut out tonight Housto...\n",
              "86    On the last episode of MakingAMurderer poor Br...\n",
              "87    thixotropic No Was so sudden Hasnt sunk in yet...\n",
              "88    Ronaldo has been shocking Hes tried to do skil...\n",
              "89     Im so confused by the new American horror story \n",
              "90    tulsa  Police manufacture murder Wonder why we...\n",
              "91    hollylolly I just have serious respect for any...\n",
              "92    WildRoverTours Thank you for follow and its a ...\n",
              "93    tabstamlyn larahunt I will next time Ill make ...\n",
              "94    janhopis I found the first few episodes of Boj...\n",
              "95     Riggs dumb ass hell lolol hilarious LethalWeapon\n",
              "96                          American Schools are lively\n",
              "97    Accept the challenges so that you can feel the...\n",
              "98    Have any of you ever stayed in hostels oversea...\n",
              "99    ProSyndicate thanks for replying Im ironing my...\n",
              "Name: Tweet, dtype: object"
            ]
          },
          "metadata": {},
          "execution_count": 28
        }
      ]
    },
    {
      "cell_type": "markdown",
      "source": [
        "**Apply function to convert to lower case**"
      ],
      "metadata": {
        "id": "N74q5CFmCBvO"
      }
    },
    {
      "cell_type": "code",
      "source": [
        "data['Tweet'] = data['Tweet'].apply(to_lowercase)"
      ],
      "metadata": {
        "id": "xq0ubu3RCC_c"
      },
      "execution_count": 30,
      "outputs": []
    },
    {
      "cell_type": "code",
      "source": [
        "data['Tweet']"
      ],
      "metadata": {
        "colab": {
          "base_uri": "https://localhost:8080/"
        },
        "id": "krSHzHMqCQmh",
        "outputId": "effcf75d-d5f4-42da-b6fb-9d45376df697"
      },
      "execution_count": 32,
      "outputs": [
        {
          "output_type": "execute_result",
          "data": {
            "text/plain": [
              "0                    false alarm  matoma amp becky hill\n",
              "1     im tired of everybody telling me to chill out ...\n",
              "2     im so serious about putting words in my mouth ...\n",
              "3     can someone make me a priority list of which t...\n",
              "4     teapartyorg hes right when the civil war start...\n",
              "5     from harboring osama bin laden to its relation...\n",
              "6     tomorrow will be the last episode of despair a...\n",
              "7     pastor   feet away from shooting victim during...\n",
              "8     me are you guys dating yet trans nervous blowj...\n",
              "9     collects all the times when minerva would chew...\n",
              "10     page script due friday for class who said i c...\n",
              "11    omg i actually thought she was going to jump  ...\n",
              "12    you dont know what to expect by brendons video...\n",
              "13    lanewoolery ffkazman experience all plays a ro...\n",
              "14    montelwilliams if this ban goes through it wil...\n",
              "15    patblanchfield so you mean like uber but for d...\n",
              "16                                        this is awful\n",
              "17    thehill george h establishment is unhappy trum...\n",
              "18    sky news still pushing the brexit gloom line m...\n",
              "19    leave it on there rulenimber  of carpet cleani...\n",
              "20                              vladfucker i look rabid\n",
              "21    michaelsalfino it still destroys fear the walk...\n",
              "22                            mcauleyross rojo is awful\n",
              "23    metpolicefc is it true none of your players ar...\n",
              "24    steviet why does talksport sound like its bein...\n",
              "25    in wake of fresh terror threat and sounding of...\n",
              "26    andreasarahco do you actually heely on campus ...\n",
              "27    hmiglino cparks cocowms bodyfit truthequalsfac...\n",
              "28    that old lady is cray cray scared bellaissocut...\n",
              "29                 hi my names anxiety and i have shaun\n",
              "30    hope i sleep  no nightmare of bakewell tarts y...\n",
              "31    kennycoble rosie these horrific situations wil...\n",
              "32        leafyishere will showing off biceps scare you\n",
              "33    courage the cowardly dog is like american horr...\n",
              "34     induction day tomorrow for pizza express nervous\n",
              "35      seanunfiltered texans are scared of this bunch \n",
              "36                          now india is afraid of bad \n",
              "37    if man u lose i may actually have a nervous br...\n",
              "38    no but thats so cute atsu was probably shy abo...\n",
              "39                            manchester derby at home \n",
              "40    her i want a playful relationshipnme kicks her...\n",
              "41    happy birthday to stephen king a man responsib...\n",
              "42    thank you disney themed episode for letting me...\n",
              "43    radiox chrismoyles wow not heard this in forev...\n",
              "44    happy birthday lost  lost dharmainitiative yea...\n",
              "45    ff nnthefamilyx nnsoul blues amp rock bandnnmu...\n",
              "46    mannersaboveall laughs louder this time shakin...\n",
              "47                                       teamgrout glee\n",
              "48    mate the thing i get excited about in my profe...\n",
              "49    mickeyplyler qualktalk the refs are in gts fav...\n",
              "50        niceonewern alottapain the gleesome threesome\n",
              "51    all this from a cigarette burning in lauras ha...\n",
              "52                                    its meant to be  \n",
              "53    i just got asked to hoco over instagram dm bc ...\n",
              "54    bietron  dont be sad btw good night davinago s...\n",
              "55    focus on yourself dont let others love define ...\n",
              "56    when the sadness leaves you broken in your bed...\n",
              "57    follow my girl tiff she only got  followers ti...\n",
              "58    patti seems so sad she stamped and ran behind ...\n",
              "59    o you who have believed fear allah and believe...\n",
              "60    i saved him after ordering him to risk his lif...\n",
              "61    may the optimism of tomorrow be your foundatio...\n",
              "62    why is it that we rejoice at a birth and griev...\n",
              "63    gloriosa bazigaga on rwanda work i lost relati...\n",
              "64    the point of living and being an optimist is t...\n",
              "65    i told my chiropractor im here for a good time...\n",
              "66    i have so much hair its a nightmare but its al...\n",
              "67    carry on my wayward son therell be peace when ...\n",
              "68    i was so embarrassed when she saw us i was lik...\n",
              "69    jeremycorbyn magstogether my god is jeremycorb...\n",
              "70    mmmm im kinda sad i hope i can shake this befo...\n",
              "71    no one wants to win the wild card because you ...\n",
              "72    mendiphillsaonb do we think the swallows and s...\n",
              "73    wishing i was rich so i didnt have to get up t...\n",
              "74    when will the weeks full of mondays end dishea...\n",
              "75    its possible changing meds is best not done wh...\n",
              "76    so gutted i dropped one of my earrings down th...\n",
              "77    antoboyle i so wish you could someday come to ...\n",
              "78                 summer officially ends today sadness\n",
              "79    final vestiges of my s childhood were just das...\n",
              "80         i was not made for this world empath unhappy\n",
              "81    finally leaving my first job soon ive been wor...\n",
              "82    will brawndo cure my depression mikejudge idio...\n",
              "83    in health we did a think about depression and ...\n",
              "84    muscled man with huge heart is messing with my...\n",
              "85    texans and astros both shut out tonight housto...\n",
              "86    on the last episode of makingamurderer poor br...\n",
              "87    thixotropic no was so sudden hasnt sunk in yet...\n",
              "88    ronaldo has been shocking hes tried to do skil...\n",
              "89     im so confused by the new american horror story \n",
              "90    tulsa  police manufacture murder wonder why we...\n",
              "91    hollylolly i just have serious respect for any...\n",
              "92    wildrovertours thank you for follow and its a ...\n",
              "93    tabstamlyn larahunt i will next time ill make ...\n",
              "94    janhopis i found the first few episodes of boj...\n",
              "95     riggs dumb ass hell lolol hilarious lethalweapon\n",
              "96                          american schools are lively\n",
              "97    accept the challenges so that you can feel the...\n",
              "98    have any of you ever stayed in hostels oversea...\n",
              "99    prosyndicate thanks for replying im ironing my...\n",
              "Name: Tweet, dtype: object"
            ]
          },
          "metadata": {},
          "execution_count": 32
        }
      ]
    },
    {
      "cell_type": "markdown",
      "source": [
        "**Apply function to remove stop words**"
      ],
      "metadata": {
        "id": "GzZg1PegCXJ2"
      }
    },
    {
      "cell_type": "code",
      "source": [
        "data['Tweet'] = data['Tweet'].apply(remove_stopwords)"
      ],
      "metadata": {
        "id": "WwJmS3m9CYga"
      },
      "execution_count": 34,
      "outputs": []
    },
    {
      "cell_type": "code",
      "source": [
        "data['Tweet']"
      ],
      "metadata": {
        "colab": {
          "base_uri": "https://localhost:8080/"
        },
        "id": "fD4oYk0YCcWy",
        "outputId": "0b5c4564-e788-4b0c-aaa1-0e40e3724b33"
      },
      "execution_count": 35,
      "outputs": [
        {
          "output_type": "execute_result",
          "data": {
            "text/plain": [
              "0                     false alarm matoma amp becky hill\n",
              "1     im tired everybody telling chill everythings o...\n",
              "2     im serious putting words mouth bitch dont add ...\n",
              "3     someone make priority list things outraged ord...\n",
              "4     teapartyorg hes right civil war starts wall wa...\n",
              "5     harboring osama bin laden relationship haqqani...\n",
              "6     tomorrow last episode despair arc much shit go...\n",
              "7     pastor feet away shooting victim protest says ...\n",
              "8     guys dating yet trans nervous blowjobs tfb dat...\n",
              "9     collects times minerva would chew cape begins ...\n",
              "10    page script due friday class said could mfa th...\n",
              "11    omg actually thought going jump southpark sout...\n",
              "12    dont know expect brendons video lmao la devote...\n",
              "13    lanewoolery ffkazman experience plays role edu...\n",
              "14    montelwilliams ban goes harm many people disab...\n",
              "15    patblanchfield mean like uber despair someone ...\n",
              "16                                                awful\n",
              "17    thehill george h establishment unhappy trumps ...\n",
              "18    sky news still pushing brexit gloom line manag...\n",
              "19    leave rulenimber carpet cleaning worsethananat...\n",
              "20                                vladfucker look rabid\n",
              "21    michaelsalfino still destroys fear walking dea...\n",
              "22                               mcauleyross rojo awful\n",
              "23    metpolicefc true none players cops drink chill...\n",
              "24    steviet talksport sound like broadcasted someo...\n",
              "25    wake fresh terror threat sounding alert mumbai...\n",
              "26         andreasarahco actually heely campus bc scare\n",
              "27    hmiglino cparks cocowms bodyfit truthequalsfac...\n",
              "28    old lady cray cray scared bellaissocute awe em...\n",
              "29                               hi names anxiety shaun\n",
              "30         hope sleep nightmare bakewell tarts yuk gbbo\n",
              "31    kennycoble rosie horrific situations get worse...\n",
              "32                     leafyishere showing biceps scare\n",
              "33    courage cowardly dog like american horror stor...\n",
              "34         induction day tomorrow pizza express nervous\n",
              "35                   seanunfiltered texans scared bunch\n",
              "36                                     india afraid bad\n",
              "37            man u lose may actually nervous breakdown\n",
              "38    thats cute atsu probably shy photos cherry hel...\n",
              "39                                manchester derby home\n",
              "40             want playful relationshipnme kicks couch\n",
              "41    happy birthday stephen king man responsible be...\n",
              "42    thank disney themed episode letting discover a...\n",
              "43    radiox chrismoyles wow heard forever random gr...\n",
              "44    happy birthday lost lost dharmainitiative year...\n",
              "45    ff nnthefamilyx nnsoul blues amp rock bandnnmu...\n",
              "46    mannersaboveall laughs louder time shaking hea...\n",
              "47                                       teamgrout glee\n",
              "48    mate thing get excited profession mad client s...\n",
              "49        mickeyplyler qualktalk refs gts favor tonight\n",
              "50            niceonewern alottapain gleesome threesome\n",
              "51    cigarette burning lauras hand angle chin purse...\n",
              "52                                                meant\n",
              "53    got asked hoco instagram dm bc someone lost be...\n",
              "54    bietron dont sad btw good night davinago sleep...\n",
              "55    focus dont let others love define youre happy ...\n",
              "56    sadness leaves broken bed hold depths despair ...\n",
              "57              follow girl tiff got followers tiffanyr\n",
              "58    patti seems sad stamped ran behind sofa give p...\n",
              "59    believed fear allah believe messenger give dou...\n",
              "60    saved ordering risk life didnt panic stayed ca...\n",
              "61               may optimism tomorrow foundation today\n",
              "62    rejoice birth grieve funeral person involved m...\n",
              "63    gloriosa bazigaga rwanda work lost relatives g...\n",
              "64    point living optimist foolish enough believe b...\n",
              "65    told chiropractor im good time long time quest...\n",
              "66    much hair nightmare also soft guess winlose si...\n",
              "67    carry wayward son therell peace done lay weary...\n",
              "68    embarrassed saw us like knvfkkjg thinks stalke...\n",
              "69    jeremycorbyn magstogether god jeremycorbyn ful...\n",
              "70                  mmmm im kinda sad hope shake school\n",
              "71       one wants win wild card play cubs road sadness\n",
              "72    mendiphillsaonb think swallows swifts gone pho...\n",
              "73    wishing rich didnt get morning poor sleepy sad...\n",
              "74                  weeks full mondays end disheartened\n",
              "75    possible changing meds best done stress diffic...\n",
              "76              gutted dropped one earrings sink school\n",
              "77    antoboyle wish could someday come spain play c...\n",
              "78                 summer officially ends today sadness\n",
              "79    final vestiges childhood dashed shoals hearing...\n",
              "80                            made world empath unhappy\n",
              "81    finally leaving first job soon ive working sin...\n",
              "82     brawndo cure depression mikejudge idiocracytoday\n",
              "83                    health think depression feel like\n",
              "84    muscled man huge heart messing brain heart los...\n",
              "85    texans astros shut tonight houston back normal...\n",
              "86    last episode makingamurderer poor brendan glad...\n",
              "87    thixotropic sudden hasnt sunk yet leo knew coming\n",
              "88    ronaldo shocking hes tried skill twice hes nea...\n",
              "89                im confused new american horror story\n",
              "90    tulsa police manufacture murder wonder carry b...\n",
              "91    hollylolly serious respect man pull bun better...\n",
              "92    wildrovertours thank follow good website cheer...\n",
              "93    tabstamlyn larahunt next time ill make sure ev...\n",
              "94    janhopis found first episodes bojack incredibl...\n",
              "95     riggs dumb ass hell lolol hilarious lethalweapon\n",
              "96                              american schools lively\n",
              "97          accept challenges feel exhilaration victory\n",
              "98    ever stayed hostels overseas frame reference m...\n",
              "99    prosyndicate thanks replying im ironing shirt ...\n",
              "Name: Tweet, dtype: object"
            ]
          },
          "metadata": {},
          "execution_count": 35
        }
      ]
    },
    {
      "cell_type": "markdown",
      "source": [
        "**Following function contains the all three tasks for the sake of simplicity we dividied it in three parts.**"
      ],
      "metadata": {
        "id": "M2NpSL1_Cpc3"
      }
    },
    {
      "cell_type": "code",
      "source": [
        "# Clean the 'tweet' column\n",
        "data['Tweet'] = data['Tweet'].apply(clean_text)"
      ],
      "metadata": {
        "id": "Iz8MsfciCsSk"
      },
      "execution_count": 37,
      "outputs": []
    },
    {
      "cell_type": "markdown",
      "source": [
        "## **Step 3.6: Data After Processing**"
      ],
      "metadata": {
        "id": "86ysjGwsDZvx"
      }
    },
    {
      "cell_type": "code",
      "source": [
        "print(\"\\n\\nEmotional prediction Data After Preprocessing:\")\n",
        "print(\"=================================================\\n\")\n",
        "pd.set_option(\"display.max_rows\", None, \"display.max_columns\", None)\n",
        "\n",
        "print(data.head())\n",
        "print(data.tail())"
      ],
      "metadata": {
        "colab": {
          "base_uri": "https://localhost:8080/"
        },
        "id": "wzEVmPbgMQ2l",
        "outputId": "2c3cb6c1-93a6-49e8-b69e-a338c8c4308d"
      },
      "execution_count": 38,
      "outputs": [
        {
          "output_type": "stream",
          "name": "stdout",
          "text": [
            "\n",
            "\n",
            "Emotional prediction Data After Preprocessing:\n",
            "=================================================\n",
            "\n",
            "                                               Tweet Emotion\n",
            "0                  false alarm matoma amp becky hill   anger\n",
            "1  im tired everybody telling chill everythings o...   anger\n",
            "2  im serious putting words mouth bitch dont add ...   anger\n",
            "3  someone make priority list things outraged ord...   anger\n",
            "4  teapartyorg hes right civil war starts wall wa...   anger\n",
            "                                                Tweet Emotion\n",
            "95   riggs dumb ass hell lolol hilarious lethalweapon   trust\n",
            "96                            american schools lively   trust\n",
            "97        accept challenges feel exhilaration victory   trust\n",
            "98  ever stayed hostels overseas frame reference m...   trust\n",
            "99  prosyndicate thanks replying im ironing shirt ...   trust\n"
          ]
        }
      ]
    },
    {
      "cell_type": "markdown",
      "source": [
        "**We have to show tweet first and than to show the sentiment type to make things standardized**\n"
      ],
      "metadata": {
        "id": "D5w5L8rcMsPc"
      }
    },
    {
      "cell_type": "code",
      "source": [
        "data = data[['Tweet','Emotion']]"
      ],
      "metadata": {
        "id": "7_y4-v28MuB6"
      },
      "execution_count": 39,
      "outputs": []
    },
    {
      "cell_type": "code",
      "source": [
        "data"
      ],
      "metadata": {
        "colab": {
          "base_uri": "https://localhost:8080/",
          "height": 1000
        },
        "id": "B8PNUPcRM-QC",
        "outputId": "91a5c791-8fe5-4791-c88a-33ab49f17048"
      },
      "execution_count": 40,
      "outputs": [
        {
          "output_type": "execute_result",
          "data": {
            "text/plain": [
              "                                                Tweet       Emotion\n",
              "0                   false alarm matoma amp becky hill         anger\n",
              "1   im tired everybody telling chill everythings o...         anger\n",
              "2   im serious putting words mouth bitch dont add ...         anger\n",
              "3   someone make priority list things outraged ord...         anger\n",
              "4   teapartyorg hes right civil war starts wall wa...         anger\n",
              "5   harboring osama bin laden relationship haqqani...         anger\n",
              "6   tomorrow last episode despair arc much shit go...  anticipation\n",
              "7   pastor feet away shooting victim protest says ...  anticipation\n",
              "8   guys dating yet trans nervous blowjobs tfb dat...  anticipation\n",
              "9   collects times minerva would chew cape begins ...  anticipation\n",
              "10  page script due friday class said could mfa th...  anticipation\n",
              "11  omg actually thought going jump southpark sout...  anticipation\n",
              "12  dont know expect brendons video lmao la devote...  anticipation\n",
              "13  lanewoolery ffkazman experience plays role edu...  anticipation\n",
              "14  montelwilliams ban goes harm many people disab...       disgust\n",
              "15  patblanchfield mean like uber despair someone ...       disgust\n",
              "16                                              awful       disgust\n",
              "17  thehill george h establishment unhappy trumps ...       disgust\n",
              "18  sky news still pushing brexit gloom line manag...       disgust\n",
              "19  leave rulenimber carpet cleaning worsethananat...       disgust\n",
              "20                              vladfucker look rabid       disgust\n",
              "21  michaelsalfino still destroys fear walking dea...       disgust\n",
              "22                             mcauleyross rojo awful       disgust\n",
              "23  metpolicefc true none players cops drink chill...       disgust\n",
              "24  steviet talksport sound like broadcasted someo...       disgust\n",
              "25  wake fresh terror threat sounding alert mumbai...          fear\n",
              "26       andreasarahco actually heely campus bc scare          fear\n",
              "27  hmiglino cparks cocowms bodyfit truthequalsfac...          fear\n",
              "28  old lady cray cray scared bellaissocute awe em...          fear\n",
              "29                             hi names anxiety shaun          fear\n",
              "30       hope sleep nightmare bakewell tarts yuk gbbo          fear\n",
              "31  kennycoble rosie horrific situations get worse...          fear\n",
              "32                   leafyishere showing biceps scare          fear\n",
              "33  courage cowardly dog like american horror stor...          fear\n",
              "34       induction day tomorrow pizza express nervous          fear\n",
              "35                 seanunfiltered texans scared bunch          fear\n",
              "36                                   india afraid bad          fear\n",
              "37          man u lose may actually nervous breakdown          fear\n",
              "38  thats cute atsu probably shy photos cherry hel...           joy\n",
              "39                              manchester derby home           joy\n",
              "40           want playful relationshipnme kicks couch           joy\n",
              "41  happy birthday stephen king man responsible be...           joy\n",
              "42  thank disney themed episode letting discover a...           joy\n",
              "43  radiox chrismoyles wow heard forever random gr...           joy\n",
              "44  happy birthday lost lost dharmainitiative year...           joy\n",
              "45  ff nnthefamilyx nnsoul blues amp rock bandnnmu...           joy\n",
              "46  mannersaboveall laughs louder time shaking hea...           joy\n",
              "47                                     teamgrout glee           joy\n",
              "48  mate thing get excited profession mad client s...           joy\n",
              "49      mickeyplyler qualktalk refs gts favor tonight           joy\n",
              "50          niceonewern alottapain gleesome threesome           joy\n",
              "51  cigarette burning lauras hand angle chin purse...          love\n",
              "52                                              meant          love\n",
              "53  got asked hoco instagram dm bc someone lost be...          love\n",
              "54  bietron dont sad btw good night davinago sleep...          love\n",
              "55  focus dont let others love define youre happy ...          love\n",
              "56  sadness leaves broken bed hold depths despair ...          love\n",
              "57            follow girl tiff got followers tiffanyr          love\n",
              "58  patti seems sad stamped ran behind sofa give p...          love\n",
              "59  believed fear allah believe messenger give dou...          love\n",
              "60  saved ordering risk life didnt panic stayed ca...      optimism\n",
              "61             may optimism tomorrow foundation today      optimism\n",
              "62  rejoice birth grieve funeral person involved m...      optimism\n",
              "63  gloriosa bazigaga rwanda work lost relatives g...      optimism\n",
              "64  point living optimist foolish enough believe b...      optimism\n",
              "65  told chiropractor im good time long time quest...      optimism\n",
              "66  much hair nightmare also soft guess winlose si...      optimism\n",
              "67  carry wayward son therell peace done lay weary...      optimism\n",
              "68  embarrassed saw us like knvfkkjg thinks stalke...     pessimism\n",
              "69  jeremycorbyn magstogether god jeremycorbyn ful...     pessimism\n",
              "70                mmmm im kinda sad hope shake school     pessimism\n",
              "71     one wants win wild card play cubs road sadness     pessimism\n",
              "72  mendiphillsaonb think swallows swifts gone pho...     pessimism\n",
              "73  wishing rich didnt get morning poor sleepy sad...     pessimism\n",
              "74                weeks full mondays end disheartened     pessimism\n",
              "75  possible changing meds best done stress diffic...       sadness\n",
              "76            gutted dropped one earrings sink school       sadness\n",
              "77  antoboyle wish could someday come spain play c...       sadness\n",
              "78               summer officially ends today sadness       sadness\n",
              "79  final vestiges childhood dashed shoals hearing...       sadness\n",
              "80                          made world empath unhappy       sadness\n",
              "81  finally leaving first job soon ive working sin...       sadness\n",
              "82   brawndo cure depression mikejudge idiocracytoday       sadness\n",
              "83                  health think depression feel like       sadness\n",
              "84  muscled man huge heart messing brain heart los...       sadness\n",
              "85  texans astros shut tonight houston back normal...       sadness\n",
              "86  last episode makingamurderer poor brendan glad...      surprise\n",
              "87  thixotropic sudden hasnt sunk yet leo knew coming      surprise\n",
              "88  ronaldo shocking hes tried skill twice hes nea...      surprise\n",
              "89              im confused new american horror story      surprise\n",
              "90  tulsa police manufacture murder wonder carry b...      surprise\n",
              "91  hollylolly serious respect man pull bun better...         trust\n",
              "92  wildrovertours thank follow good website cheer...         trust\n",
              "93  tabstamlyn larahunt next time ill make sure ev...         trust\n",
              "94  janhopis found first episodes bojack incredibl...         trust\n",
              "95   riggs dumb ass hell lolol hilarious lethalweapon         trust\n",
              "96                            american schools lively         trust\n",
              "97        accept challenges feel exhilaration victory         trust\n",
              "98  ever stayed hostels overseas frame reference m...         trust\n",
              "99  prosyndicate thanks replying im ironing shirt ...         trust"
            ],
            "text/html": [
              "\n",
              "  <div id=\"df-90f7b07b-bd55-40eb-88e5-f7f543bfddac\" class=\"colab-df-container\">\n",
              "    <div>\n",
              "<style scoped>\n",
              "    .dataframe tbody tr th:only-of-type {\n",
              "        vertical-align: middle;\n",
              "    }\n",
              "\n",
              "    .dataframe tbody tr th {\n",
              "        vertical-align: top;\n",
              "    }\n",
              "\n",
              "    .dataframe thead th {\n",
              "        text-align: right;\n",
              "    }\n",
              "</style>\n",
              "<table border=\"1\" class=\"dataframe\">\n",
              "  <thead>\n",
              "    <tr style=\"text-align: right;\">\n",
              "      <th></th>\n",
              "      <th>Tweet</th>\n",
              "      <th>Emotion</th>\n",
              "    </tr>\n",
              "  </thead>\n",
              "  <tbody>\n",
              "    <tr>\n",
              "      <th>0</th>\n",
              "      <td>false alarm matoma amp becky hill</td>\n",
              "      <td>anger</td>\n",
              "    </tr>\n",
              "    <tr>\n",
              "      <th>1</th>\n",
              "      <td>im tired everybody telling chill everythings o...</td>\n",
              "      <td>anger</td>\n",
              "    </tr>\n",
              "    <tr>\n",
              "      <th>2</th>\n",
              "      <td>im serious putting words mouth bitch dont add ...</td>\n",
              "      <td>anger</td>\n",
              "    </tr>\n",
              "    <tr>\n",
              "      <th>3</th>\n",
              "      <td>someone make priority list things outraged ord...</td>\n",
              "      <td>anger</td>\n",
              "    </tr>\n",
              "    <tr>\n",
              "      <th>4</th>\n",
              "      <td>teapartyorg hes right civil war starts wall wa...</td>\n",
              "      <td>anger</td>\n",
              "    </tr>\n",
              "    <tr>\n",
              "      <th>5</th>\n",
              "      <td>harboring osama bin laden relationship haqqani...</td>\n",
              "      <td>anger</td>\n",
              "    </tr>\n",
              "    <tr>\n",
              "      <th>6</th>\n",
              "      <td>tomorrow last episode despair arc much shit go...</td>\n",
              "      <td>anticipation</td>\n",
              "    </tr>\n",
              "    <tr>\n",
              "      <th>7</th>\n",
              "      <td>pastor feet away shooting victim protest says ...</td>\n",
              "      <td>anticipation</td>\n",
              "    </tr>\n",
              "    <tr>\n",
              "      <th>8</th>\n",
              "      <td>guys dating yet trans nervous blowjobs tfb dat...</td>\n",
              "      <td>anticipation</td>\n",
              "    </tr>\n",
              "    <tr>\n",
              "      <th>9</th>\n",
              "      <td>collects times minerva would chew cape begins ...</td>\n",
              "      <td>anticipation</td>\n",
              "    </tr>\n",
              "    <tr>\n",
              "      <th>10</th>\n",
              "      <td>page script due friday class said could mfa th...</td>\n",
              "      <td>anticipation</td>\n",
              "    </tr>\n",
              "    <tr>\n",
              "      <th>11</th>\n",
              "      <td>omg actually thought going jump southpark sout...</td>\n",
              "      <td>anticipation</td>\n",
              "    </tr>\n",
              "    <tr>\n",
              "      <th>12</th>\n",
              "      <td>dont know expect brendons video lmao la devote...</td>\n",
              "      <td>anticipation</td>\n",
              "    </tr>\n",
              "    <tr>\n",
              "      <th>13</th>\n",
              "      <td>lanewoolery ffkazman experience plays role edu...</td>\n",
              "      <td>anticipation</td>\n",
              "    </tr>\n",
              "    <tr>\n",
              "      <th>14</th>\n",
              "      <td>montelwilliams ban goes harm many people disab...</td>\n",
              "      <td>disgust</td>\n",
              "    </tr>\n",
              "    <tr>\n",
              "      <th>15</th>\n",
              "      <td>patblanchfield mean like uber despair someone ...</td>\n",
              "      <td>disgust</td>\n",
              "    </tr>\n",
              "    <tr>\n",
              "      <th>16</th>\n",
              "      <td>awful</td>\n",
              "      <td>disgust</td>\n",
              "    </tr>\n",
              "    <tr>\n",
              "      <th>17</th>\n",
              "      <td>thehill george h establishment unhappy trumps ...</td>\n",
              "      <td>disgust</td>\n",
              "    </tr>\n",
              "    <tr>\n",
              "      <th>18</th>\n",
              "      <td>sky news still pushing brexit gloom line manag...</td>\n",
              "      <td>disgust</td>\n",
              "    </tr>\n",
              "    <tr>\n",
              "      <th>19</th>\n",
              "      <td>leave rulenimber carpet cleaning worsethananat...</td>\n",
              "      <td>disgust</td>\n",
              "    </tr>\n",
              "    <tr>\n",
              "      <th>20</th>\n",
              "      <td>vladfucker look rabid</td>\n",
              "      <td>disgust</td>\n",
              "    </tr>\n",
              "    <tr>\n",
              "      <th>21</th>\n",
              "      <td>michaelsalfino still destroys fear walking dea...</td>\n",
              "      <td>disgust</td>\n",
              "    </tr>\n",
              "    <tr>\n",
              "      <th>22</th>\n",
              "      <td>mcauleyross rojo awful</td>\n",
              "      <td>disgust</td>\n",
              "    </tr>\n",
              "    <tr>\n",
              "      <th>23</th>\n",
              "      <td>metpolicefc true none players cops drink chill...</td>\n",
              "      <td>disgust</td>\n",
              "    </tr>\n",
              "    <tr>\n",
              "      <th>24</th>\n",
              "      <td>steviet talksport sound like broadcasted someo...</td>\n",
              "      <td>disgust</td>\n",
              "    </tr>\n",
              "    <tr>\n",
              "      <th>25</th>\n",
              "      <td>wake fresh terror threat sounding alert mumbai...</td>\n",
              "      <td>fear</td>\n",
              "    </tr>\n",
              "    <tr>\n",
              "      <th>26</th>\n",
              "      <td>andreasarahco actually heely campus bc scare</td>\n",
              "      <td>fear</td>\n",
              "    </tr>\n",
              "    <tr>\n",
              "      <th>27</th>\n",
              "      <td>hmiglino cparks cocowms bodyfit truthequalsfac...</td>\n",
              "      <td>fear</td>\n",
              "    </tr>\n",
              "    <tr>\n",
              "      <th>28</th>\n",
              "      <td>old lady cray cray scared bellaissocute awe em...</td>\n",
              "      <td>fear</td>\n",
              "    </tr>\n",
              "    <tr>\n",
              "      <th>29</th>\n",
              "      <td>hi names anxiety shaun</td>\n",
              "      <td>fear</td>\n",
              "    </tr>\n",
              "    <tr>\n",
              "      <th>30</th>\n",
              "      <td>hope sleep nightmare bakewell tarts yuk gbbo</td>\n",
              "      <td>fear</td>\n",
              "    </tr>\n",
              "    <tr>\n",
              "      <th>31</th>\n",
              "      <td>kennycoble rosie horrific situations get worse...</td>\n",
              "      <td>fear</td>\n",
              "    </tr>\n",
              "    <tr>\n",
              "      <th>32</th>\n",
              "      <td>leafyishere showing biceps scare</td>\n",
              "      <td>fear</td>\n",
              "    </tr>\n",
              "    <tr>\n",
              "      <th>33</th>\n",
              "      <td>courage cowardly dog like american horror stor...</td>\n",
              "      <td>fear</td>\n",
              "    </tr>\n",
              "    <tr>\n",
              "      <th>34</th>\n",
              "      <td>induction day tomorrow pizza express nervous</td>\n",
              "      <td>fear</td>\n",
              "    </tr>\n",
              "    <tr>\n",
              "      <th>35</th>\n",
              "      <td>seanunfiltered texans scared bunch</td>\n",
              "      <td>fear</td>\n",
              "    </tr>\n",
              "    <tr>\n",
              "      <th>36</th>\n",
              "      <td>india afraid bad</td>\n",
              "      <td>fear</td>\n",
              "    </tr>\n",
              "    <tr>\n",
              "      <th>37</th>\n",
              "      <td>man u lose may actually nervous breakdown</td>\n",
              "      <td>fear</td>\n",
              "    </tr>\n",
              "    <tr>\n",
              "      <th>38</th>\n",
              "      <td>thats cute atsu probably shy photos cherry hel...</td>\n",
              "      <td>joy</td>\n",
              "    </tr>\n",
              "    <tr>\n",
              "      <th>39</th>\n",
              "      <td>manchester derby home</td>\n",
              "      <td>joy</td>\n",
              "    </tr>\n",
              "    <tr>\n",
              "      <th>40</th>\n",
              "      <td>want playful relationshipnme kicks couch</td>\n",
              "      <td>joy</td>\n",
              "    </tr>\n",
              "    <tr>\n",
              "      <th>41</th>\n",
              "      <td>happy birthday stephen king man responsible be...</td>\n",
              "      <td>joy</td>\n",
              "    </tr>\n",
              "    <tr>\n",
              "      <th>42</th>\n",
              "      <td>thank disney themed episode letting discover a...</td>\n",
              "      <td>joy</td>\n",
              "    </tr>\n",
              "    <tr>\n",
              "      <th>43</th>\n",
              "      <td>radiox chrismoyles wow heard forever random gr...</td>\n",
              "      <td>joy</td>\n",
              "    </tr>\n",
              "    <tr>\n",
              "      <th>44</th>\n",
              "      <td>happy birthday lost lost dharmainitiative year...</td>\n",
              "      <td>joy</td>\n",
              "    </tr>\n",
              "    <tr>\n",
              "      <th>45</th>\n",
              "      <td>ff nnthefamilyx nnsoul blues amp rock bandnnmu...</td>\n",
              "      <td>joy</td>\n",
              "    </tr>\n",
              "    <tr>\n",
              "      <th>46</th>\n",
              "      <td>mannersaboveall laughs louder time shaking hea...</td>\n",
              "      <td>joy</td>\n",
              "    </tr>\n",
              "    <tr>\n",
              "      <th>47</th>\n",
              "      <td>teamgrout glee</td>\n",
              "      <td>joy</td>\n",
              "    </tr>\n",
              "    <tr>\n",
              "      <th>48</th>\n",
              "      <td>mate thing get excited profession mad client s...</td>\n",
              "      <td>joy</td>\n",
              "    </tr>\n",
              "    <tr>\n",
              "      <th>49</th>\n",
              "      <td>mickeyplyler qualktalk refs gts favor tonight</td>\n",
              "      <td>joy</td>\n",
              "    </tr>\n",
              "    <tr>\n",
              "      <th>50</th>\n",
              "      <td>niceonewern alottapain gleesome threesome</td>\n",
              "      <td>joy</td>\n",
              "    </tr>\n",
              "    <tr>\n",
              "      <th>51</th>\n",
              "      <td>cigarette burning lauras hand angle chin purse...</td>\n",
              "      <td>love</td>\n",
              "    </tr>\n",
              "    <tr>\n",
              "      <th>52</th>\n",
              "      <td>meant</td>\n",
              "      <td>love</td>\n",
              "    </tr>\n",
              "    <tr>\n",
              "      <th>53</th>\n",
              "      <td>got asked hoco instagram dm bc someone lost be...</td>\n",
              "      <td>love</td>\n",
              "    </tr>\n",
              "    <tr>\n",
              "      <th>54</th>\n",
              "      <td>bietron dont sad btw good night davinago sleep...</td>\n",
              "      <td>love</td>\n",
              "    </tr>\n",
              "    <tr>\n",
              "      <th>55</th>\n",
              "      <td>focus dont let others love define youre happy ...</td>\n",
              "      <td>love</td>\n",
              "    </tr>\n",
              "    <tr>\n",
              "      <th>56</th>\n",
              "      <td>sadness leaves broken bed hold depths despair ...</td>\n",
              "      <td>love</td>\n",
              "    </tr>\n",
              "    <tr>\n",
              "      <th>57</th>\n",
              "      <td>follow girl tiff got followers tiffanyr</td>\n",
              "      <td>love</td>\n",
              "    </tr>\n",
              "    <tr>\n",
              "      <th>58</th>\n",
              "      <td>patti seems sad stamped ran behind sofa give p...</td>\n",
              "      <td>love</td>\n",
              "    </tr>\n",
              "    <tr>\n",
              "      <th>59</th>\n",
              "      <td>believed fear allah believe messenger give dou...</td>\n",
              "      <td>love</td>\n",
              "    </tr>\n",
              "    <tr>\n",
              "      <th>60</th>\n",
              "      <td>saved ordering risk life didnt panic stayed ca...</td>\n",
              "      <td>optimism</td>\n",
              "    </tr>\n",
              "    <tr>\n",
              "      <th>61</th>\n",
              "      <td>may optimism tomorrow foundation today</td>\n",
              "      <td>optimism</td>\n",
              "    </tr>\n",
              "    <tr>\n",
              "      <th>62</th>\n",
              "      <td>rejoice birth grieve funeral person involved m...</td>\n",
              "      <td>optimism</td>\n",
              "    </tr>\n",
              "    <tr>\n",
              "      <th>63</th>\n",
              "      <td>gloriosa bazigaga rwanda work lost relatives g...</td>\n",
              "      <td>optimism</td>\n",
              "    </tr>\n",
              "    <tr>\n",
              "      <th>64</th>\n",
              "      <td>point living optimist foolish enough believe b...</td>\n",
              "      <td>optimism</td>\n",
              "    </tr>\n",
              "    <tr>\n",
              "      <th>65</th>\n",
              "      <td>told chiropractor im good time long time quest...</td>\n",
              "      <td>optimism</td>\n",
              "    </tr>\n",
              "    <tr>\n",
              "      <th>66</th>\n",
              "      <td>much hair nightmare also soft guess winlose si...</td>\n",
              "      <td>optimism</td>\n",
              "    </tr>\n",
              "    <tr>\n",
              "      <th>67</th>\n",
              "      <td>carry wayward son therell peace done lay weary...</td>\n",
              "      <td>optimism</td>\n",
              "    </tr>\n",
              "    <tr>\n",
              "      <th>68</th>\n",
              "      <td>embarrassed saw us like knvfkkjg thinks stalke...</td>\n",
              "      <td>pessimism</td>\n",
              "    </tr>\n",
              "    <tr>\n",
              "      <th>69</th>\n",
              "      <td>jeremycorbyn magstogether god jeremycorbyn ful...</td>\n",
              "      <td>pessimism</td>\n",
              "    </tr>\n",
              "    <tr>\n",
              "      <th>70</th>\n",
              "      <td>mmmm im kinda sad hope shake school</td>\n",
              "      <td>pessimism</td>\n",
              "    </tr>\n",
              "    <tr>\n",
              "      <th>71</th>\n",
              "      <td>one wants win wild card play cubs road sadness</td>\n",
              "      <td>pessimism</td>\n",
              "    </tr>\n",
              "    <tr>\n",
              "      <th>72</th>\n",
              "      <td>mendiphillsaonb think swallows swifts gone pho...</td>\n",
              "      <td>pessimism</td>\n",
              "    </tr>\n",
              "    <tr>\n",
              "      <th>73</th>\n",
              "      <td>wishing rich didnt get morning poor sleepy sad...</td>\n",
              "      <td>pessimism</td>\n",
              "    </tr>\n",
              "    <tr>\n",
              "      <th>74</th>\n",
              "      <td>weeks full mondays end disheartened</td>\n",
              "      <td>pessimism</td>\n",
              "    </tr>\n",
              "    <tr>\n",
              "      <th>75</th>\n",
              "      <td>possible changing meds best done stress diffic...</td>\n",
              "      <td>sadness</td>\n",
              "    </tr>\n",
              "    <tr>\n",
              "      <th>76</th>\n",
              "      <td>gutted dropped one earrings sink school</td>\n",
              "      <td>sadness</td>\n",
              "    </tr>\n",
              "    <tr>\n",
              "      <th>77</th>\n",
              "      <td>antoboyle wish could someday come spain play c...</td>\n",
              "      <td>sadness</td>\n",
              "    </tr>\n",
              "    <tr>\n",
              "      <th>78</th>\n",
              "      <td>summer officially ends today sadness</td>\n",
              "      <td>sadness</td>\n",
              "    </tr>\n",
              "    <tr>\n",
              "      <th>79</th>\n",
              "      <td>final vestiges childhood dashed shoals hearing...</td>\n",
              "      <td>sadness</td>\n",
              "    </tr>\n",
              "    <tr>\n",
              "      <th>80</th>\n",
              "      <td>made world empath unhappy</td>\n",
              "      <td>sadness</td>\n",
              "    </tr>\n",
              "    <tr>\n",
              "      <th>81</th>\n",
              "      <td>finally leaving first job soon ive working sin...</td>\n",
              "      <td>sadness</td>\n",
              "    </tr>\n",
              "    <tr>\n",
              "      <th>82</th>\n",
              "      <td>brawndo cure depression mikejudge idiocracytoday</td>\n",
              "      <td>sadness</td>\n",
              "    </tr>\n",
              "    <tr>\n",
              "      <th>83</th>\n",
              "      <td>health think depression feel like</td>\n",
              "      <td>sadness</td>\n",
              "    </tr>\n",
              "    <tr>\n",
              "      <th>84</th>\n",
              "      <td>muscled man huge heart messing brain heart los...</td>\n",
              "      <td>sadness</td>\n",
              "    </tr>\n",
              "    <tr>\n",
              "      <th>85</th>\n",
              "      <td>texans astros shut tonight houston back normal...</td>\n",
              "      <td>sadness</td>\n",
              "    </tr>\n",
              "    <tr>\n",
              "      <th>86</th>\n",
              "      <td>last episode makingamurderer poor brendan glad...</td>\n",
              "      <td>surprise</td>\n",
              "    </tr>\n",
              "    <tr>\n",
              "      <th>87</th>\n",
              "      <td>thixotropic sudden hasnt sunk yet leo knew coming</td>\n",
              "      <td>surprise</td>\n",
              "    </tr>\n",
              "    <tr>\n",
              "      <th>88</th>\n",
              "      <td>ronaldo shocking hes tried skill twice hes nea...</td>\n",
              "      <td>surprise</td>\n",
              "    </tr>\n",
              "    <tr>\n",
              "      <th>89</th>\n",
              "      <td>im confused new american horror story</td>\n",
              "      <td>surprise</td>\n",
              "    </tr>\n",
              "    <tr>\n",
              "      <th>90</th>\n",
              "      <td>tulsa police manufacture murder wonder carry b...</td>\n",
              "      <td>surprise</td>\n",
              "    </tr>\n",
              "    <tr>\n",
              "      <th>91</th>\n",
              "      <td>hollylolly serious respect man pull bun better...</td>\n",
              "      <td>trust</td>\n",
              "    </tr>\n",
              "    <tr>\n",
              "      <th>92</th>\n",
              "      <td>wildrovertours thank follow good website cheer...</td>\n",
              "      <td>trust</td>\n",
              "    </tr>\n",
              "    <tr>\n",
              "      <th>93</th>\n",
              "      <td>tabstamlyn larahunt next time ill make sure ev...</td>\n",
              "      <td>trust</td>\n",
              "    </tr>\n",
              "    <tr>\n",
              "      <th>94</th>\n",
              "      <td>janhopis found first episodes bojack incredibl...</td>\n",
              "      <td>trust</td>\n",
              "    </tr>\n",
              "    <tr>\n",
              "      <th>95</th>\n",
              "      <td>riggs dumb ass hell lolol hilarious lethalweapon</td>\n",
              "      <td>trust</td>\n",
              "    </tr>\n",
              "    <tr>\n",
              "      <th>96</th>\n",
              "      <td>american schools lively</td>\n",
              "      <td>trust</td>\n",
              "    </tr>\n",
              "    <tr>\n",
              "      <th>97</th>\n",
              "      <td>accept challenges feel exhilaration victory</td>\n",
              "      <td>trust</td>\n",
              "    </tr>\n",
              "    <tr>\n",
              "      <th>98</th>\n",
              "      <td>ever stayed hostels overseas frame reference m...</td>\n",
              "      <td>trust</td>\n",
              "    </tr>\n",
              "    <tr>\n",
              "      <th>99</th>\n",
              "      <td>prosyndicate thanks replying im ironing shirt ...</td>\n",
              "      <td>trust</td>\n",
              "    </tr>\n",
              "  </tbody>\n",
              "</table>\n",
              "</div>\n",
              "    <div class=\"colab-df-buttons\">\n",
              "\n",
              "  <div class=\"colab-df-container\">\n",
              "    <button class=\"colab-df-convert\" onclick=\"convertToInteractive('df-90f7b07b-bd55-40eb-88e5-f7f543bfddac')\"\n",
              "            title=\"Convert this dataframe to an interactive table.\"\n",
              "            style=\"display:none;\">\n",
              "\n",
              "  <svg xmlns=\"http://www.w3.org/2000/svg\" height=\"24px\" viewBox=\"0 -960 960 960\">\n",
              "    <path d=\"M120-120v-720h720v720H120Zm60-500h600v-160H180v160Zm220 220h160v-160H400v160Zm0 220h160v-160H400v160ZM180-400h160v-160H180v160Zm440 0h160v-160H620v160ZM180-180h160v-160H180v160Zm440 0h160v-160H620v160Z\"/>\n",
              "  </svg>\n",
              "    </button>\n",
              "\n",
              "  <style>\n",
              "    .colab-df-container {\n",
              "      display:flex;\n",
              "      gap: 12px;\n",
              "    }\n",
              "\n",
              "    .colab-df-convert {\n",
              "      background-color: #E8F0FE;\n",
              "      border: none;\n",
              "      border-radius: 50%;\n",
              "      cursor: pointer;\n",
              "      display: none;\n",
              "      fill: #1967D2;\n",
              "      height: 32px;\n",
              "      padding: 0 0 0 0;\n",
              "      width: 32px;\n",
              "    }\n",
              "\n",
              "    .colab-df-convert:hover {\n",
              "      background-color: #E2EBFA;\n",
              "      box-shadow: 0px 1px 2px rgba(60, 64, 67, 0.3), 0px 1px 3px 1px rgba(60, 64, 67, 0.15);\n",
              "      fill: #174EA6;\n",
              "    }\n",
              "\n",
              "    .colab-df-buttons div {\n",
              "      margin-bottom: 4px;\n",
              "    }\n",
              "\n",
              "    [theme=dark] .colab-df-convert {\n",
              "      background-color: #3B4455;\n",
              "      fill: #D2E3FC;\n",
              "    }\n",
              "\n",
              "    [theme=dark] .colab-df-convert:hover {\n",
              "      background-color: #434B5C;\n",
              "      box-shadow: 0px 1px 3px 1px rgba(0, 0, 0, 0.15);\n",
              "      filter: drop-shadow(0px 1px 2px rgba(0, 0, 0, 0.3));\n",
              "      fill: #FFFFFF;\n",
              "    }\n",
              "  </style>\n",
              "\n",
              "    <script>\n",
              "      const buttonEl =\n",
              "        document.querySelector('#df-90f7b07b-bd55-40eb-88e5-f7f543bfddac button.colab-df-convert');\n",
              "      buttonEl.style.display =\n",
              "        google.colab.kernel.accessAllowed ? 'block' : 'none';\n",
              "\n",
              "      async function convertToInteractive(key) {\n",
              "        const element = document.querySelector('#df-90f7b07b-bd55-40eb-88e5-f7f543bfddac');\n",
              "        const dataTable =\n",
              "          await google.colab.kernel.invokeFunction('convertToInteractive',\n",
              "                                                    [key], {});\n",
              "        if (!dataTable) return;\n",
              "\n",
              "        const docLinkHtml = 'Like what you see? Visit the ' +\n",
              "          '<a target=\"_blank\" href=https://colab.research.google.com/notebooks/data_table.ipynb>data table notebook</a>'\n",
              "          + ' to learn more about interactive tables.';\n",
              "        element.innerHTML = '';\n",
              "        dataTable['output_type'] = 'display_data';\n",
              "        await google.colab.output.renderOutput(dataTable, element);\n",
              "        const docLink = document.createElement('div');\n",
              "        docLink.innerHTML = docLinkHtml;\n",
              "        element.appendChild(docLink);\n",
              "      }\n",
              "    </script>\n",
              "  </div>\n",
              "\n",
              "\n",
              "<div id=\"df-82c150f7-1cfc-4ad1-ac53-56b1c7b2ebce\">\n",
              "  <button class=\"colab-df-quickchart\" onclick=\"quickchart('df-82c150f7-1cfc-4ad1-ac53-56b1c7b2ebce')\"\n",
              "            title=\"Suggest charts\"\n",
              "            style=\"display:none;\">\n",
              "\n",
              "<svg xmlns=\"http://www.w3.org/2000/svg\" height=\"24px\"viewBox=\"0 0 24 24\"\n",
              "     width=\"24px\">\n",
              "    <g>\n",
              "        <path d=\"M19 3H5c-1.1 0-2 .9-2 2v14c0 1.1.9 2 2 2h14c1.1 0 2-.9 2-2V5c0-1.1-.9-2-2-2zM9 17H7v-7h2v7zm4 0h-2V7h2v10zm4 0h-2v-4h2v4z\"/>\n",
              "    </g>\n",
              "</svg>\n",
              "  </button>\n",
              "\n",
              "<style>\n",
              "  .colab-df-quickchart {\n",
              "      --bg-color: #E8F0FE;\n",
              "      --fill-color: #1967D2;\n",
              "      --hover-bg-color: #E2EBFA;\n",
              "      --hover-fill-color: #174EA6;\n",
              "      --disabled-fill-color: #AAA;\n",
              "      --disabled-bg-color: #DDD;\n",
              "  }\n",
              "\n",
              "  [theme=dark] .colab-df-quickchart {\n",
              "      --bg-color: #3B4455;\n",
              "      --fill-color: #D2E3FC;\n",
              "      --hover-bg-color: #434B5C;\n",
              "      --hover-fill-color: #FFFFFF;\n",
              "      --disabled-bg-color: #3B4455;\n",
              "      --disabled-fill-color: #666;\n",
              "  }\n",
              "\n",
              "  .colab-df-quickchart {\n",
              "    background-color: var(--bg-color);\n",
              "    border: none;\n",
              "    border-radius: 50%;\n",
              "    cursor: pointer;\n",
              "    display: none;\n",
              "    fill: var(--fill-color);\n",
              "    height: 32px;\n",
              "    padding: 0;\n",
              "    width: 32px;\n",
              "  }\n",
              "\n",
              "  .colab-df-quickchart:hover {\n",
              "    background-color: var(--hover-bg-color);\n",
              "    box-shadow: 0 1px 2px rgba(60, 64, 67, 0.3), 0 1px 3px 1px rgba(60, 64, 67, 0.15);\n",
              "    fill: var(--button-hover-fill-color);\n",
              "  }\n",
              "\n",
              "  .colab-df-quickchart-complete:disabled,\n",
              "  .colab-df-quickchart-complete:disabled:hover {\n",
              "    background-color: var(--disabled-bg-color);\n",
              "    fill: var(--disabled-fill-color);\n",
              "    box-shadow: none;\n",
              "  }\n",
              "\n",
              "  .colab-df-spinner {\n",
              "    border: 2px solid var(--fill-color);\n",
              "    border-color: transparent;\n",
              "    border-bottom-color: var(--fill-color);\n",
              "    animation:\n",
              "      spin 1s steps(1) infinite;\n",
              "  }\n",
              "\n",
              "  @keyframes spin {\n",
              "    0% {\n",
              "      border-color: transparent;\n",
              "      border-bottom-color: var(--fill-color);\n",
              "      border-left-color: var(--fill-color);\n",
              "    }\n",
              "    20% {\n",
              "      border-color: transparent;\n",
              "      border-left-color: var(--fill-color);\n",
              "      border-top-color: var(--fill-color);\n",
              "    }\n",
              "    30% {\n",
              "      border-color: transparent;\n",
              "      border-left-color: var(--fill-color);\n",
              "      border-top-color: var(--fill-color);\n",
              "      border-right-color: var(--fill-color);\n",
              "    }\n",
              "    40% {\n",
              "      border-color: transparent;\n",
              "      border-right-color: var(--fill-color);\n",
              "      border-top-color: var(--fill-color);\n",
              "    }\n",
              "    60% {\n",
              "      border-color: transparent;\n",
              "      border-right-color: var(--fill-color);\n",
              "    }\n",
              "    80% {\n",
              "      border-color: transparent;\n",
              "      border-right-color: var(--fill-color);\n",
              "      border-bottom-color: var(--fill-color);\n",
              "    }\n",
              "    90% {\n",
              "      border-color: transparent;\n",
              "      border-bottom-color: var(--fill-color);\n",
              "    }\n",
              "  }\n",
              "</style>\n",
              "\n",
              "  <script>\n",
              "    async function quickchart(key) {\n",
              "      const quickchartButtonEl =\n",
              "        document.querySelector('#' + key + ' button');\n",
              "      quickchartButtonEl.disabled = true;  // To prevent multiple clicks.\n",
              "      quickchartButtonEl.classList.add('colab-df-spinner');\n",
              "      try {\n",
              "        const charts = await google.colab.kernel.invokeFunction(\n",
              "            'suggestCharts', [key], {});\n",
              "      } catch (error) {\n",
              "        console.error('Error during call to suggestCharts:', error);\n",
              "      }\n",
              "      quickchartButtonEl.classList.remove('colab-df-spinner');\n",
              "      quickchartButtonEl.classList.add('colab-df-quickchart-complete');\n",
              "    }\n",
              "    (() => {\n",
              "      let quickchartButtonEl =\n",
              "        document.querySelector('#df-82c150f7-1cfc-4ad1-ac53-56b1c7b2ebce button');\n",
              "      quickchartButtonEl.style.display =\n",
              "        google.colab.kernel.accessAllowed ? 'block' : 'none';\n",
              "    })();\n",
              "  </script>\n",
              "</div>\n",
              "\n",
              "  <div id=\"id_4dc83bef-5d45-4615-a2fc-e3796fa75230\">\n",
              "    <style>\n",
              "      .colab-df-generate {\n",
              "        background-color: #E8F0FE;\n",
              "        border: none;\n",
              "        border-radius: 50%;\n",
              "        cursor: pointer;\n",
              "        display: none;\n",
              "        fill: #1967D2;\n",
              "        height: 32px;\n",
              "        padding: 0 0 0 0;\n",
              "        width: 32px;\n",
              "      }\n",
              "\n",
              "      .colab-df-generate:hover {\n",
              "        background-color: #E2EBFA;\n",
              "        box-shadow: 0px 1px 2px rgba(60, 64, 67, 0.3), 0px 1px 3px 1px rgba(60, 64, 67, 0.15);\n",
              "        fill: #174EA6;\n",
              "      }\n",
              "\n",
              "      [theme=dark] .colab-df-generate {\n",
              "        background-color: #3B4455;\n",
              "        fill: #D2E3FC;\n",
              "      }\n",
              "\n",
              "      [theme=dark] .colab-df-generate:hover {\n",
              "        background-color: #434B5C;\n",
              "        box-shadow: 0px 1px 3px 1px rgba(0, 0, 0, 0.15);\n",
              "        filter: drop-shadow(0px 1px 2px rgba(0, 0, 0, 0.3));\n",
              "        fill: #FFFFFF;\n",
              "      }\n",
              "    </style>\n",
              "    <button class=\"colab-df-generate\" onclick=\"generateWithVariable('data')\"\n",
              "            title=\"Generate code using this dataframe.\"\n",
              "            style=\"display:none;\">\n",
              "\n",
              "  <svg xmlns=\"http://www.w3.org/2000/svg\" height=\"24px\"viewBox=\"0 0 24 24\"\n",
              "       width=\"24px\">\n",
              "    <path d=\"M7,19H8.4L18.45,9,17,7.55,7,17.6ZM5,21V16.75L18.45,3.32a2,2,0,0,1,2.83,0l1.4,1.43a1.91,1.91,0,0,1,.58,1.4,1.91,1.91,0,0,1-.58,1.4L9.25,21ZM18.45,9,17,7.55Zm-12,3A5.31,5.31,0,0,0,4.9,8.1,5.31,5.31,0,0,0,1,6.5,5.31,5.31,0,0,0,4.9,4.9,5.31,5.31,0,0,0,6.5,1,5.31,5.31,0,0,0,8.1,4.9,5.31,5.31,0,0,0,12,6.5,5.46,5.46,0,0,0,6.5,12Z\"/>\n",
              "  </svg>\n",
              "    </button>\n",
              "    <script>\n",
              "      (() => {\n",
              "      const buttonEl =\n",
              "        document.querySelector('#id_4dc83bef-5d45-4615-a2fc-e3796fa75230 button.colab-df-generate');\n",
              "      buttonEl.style.display =\n",
              "        google.colab.kernel.accessAllowed ? 'block' : 'none';\n",
              "\n",
              "      buttonEl.onclick = () => {\n",
              "        google.colab.notebook.generateWithVariable('data');\n",
              "      }\n",
              "      })();\n",
              "    </script>\n",
              "  </div>\n",
              "\n",
              "    </div>\n",
              "  </div>\n"
            ],
            "application/vnd.google.colaboratory.intrinsic+json": {
              "type": "dataframe",
              "variable_name": "data",
              "summary": "{\n  \"name\": \"data\",\n  \"rows\": 100,\n  \"fields\": [\n    {\n      \"column\": \"Tweet\",\n      \"properties\": {\n        \"dtype\": \"string\",\n        \"num_unique_values\": 100,\n        \"samples\": [\n          \"health think depression feel like\",\n          \"got asked hoco instagram dm bc someone lost bet love maturity people grade\",\n          \"mmmm im kinda sad hope shake school\"\n        ],\n        \"semantic_type\": \"\",\n        \"description\": \"\"\n      }\n    },\n    {\n      \"column\": \"Emotion\",\n      \"properties\": {\n        \"dtype\": \"category\",\n        \"num_unique_values\": 11,\n        \"samples\": [\n          \"love\",\n          \"anger\",\n          \"surprise\"\n        ],\n        \"semantic_type\": \"\",\n        \"description\": \"\"\n      }\n    }\n  ]\n}"
            }
          },
          "metadata": {},
          "execution_count": 40
        }
      ]
    },
    {
      "cell_type": "markdown",
      "source": [
        "## **Step 3.7: Saving Cleaned Data as Seperate CSV File**"
      ],
      "metadata": {
        "id": "5HOnV9j0OIhf"
      }
    },
    {
      "cell_type": "code",
      "source": [
        "data.to_csv(\"cleaned_emotion_tweets.csv\", index=False)"
      ],
      "metadata": {
        "id": "4T6-TxbMOMKI"
      },
      "execution_count": 41,
      "outputs": []
    },
    {
      "cell_type": "code",
      "source": [
        "data.columns"
      ],
      "metadata": {
        "colab": {
          "base_uri": "https://localhost:8080/"
        },
        "id": "5UV2TqzKOUXl",
        "outputId": "2c456941-d105-4625-8652-4e3c1ca6c836"
      },
      "execution_count": 42,
      "outputs": [
        {
          "output_type": "execute_result",
          "data": {
            "text/plain": [
              "Index(['Tweet', 'Emotion'], dtype='object')"
            ]
          },
          "metadata": {},
          "execution_count": 42
        }
      ]
    },
    {
      "cell_type": "markdown",
      "source": [
        "# **Step 4: Splitting Sample Data into Training Data and Testing Data**"
      ],
      "metadata": {
        "id": "inuKMhnJOhb1"
      }
    },
    {
      "cell_type": "markdown",
      "source": [
        "## **Splitting Data into Features and Labels**"
      ],
      "metadata": {
        "id": "nXGuadVZOkhI"
      }
    },
    {
      "cell_type": "code",
      "source": [
        "data = pd.read_csv('cleaned_emotion_tweets.csv')\n",
        "X = data['Tweet']\n",
        "y = data['Emotion']\n",
        "\n",
        "X_train, X_test, y_train, y_test = train_test_split(X, y, test_size=0.2, random_state=42)"
      ],
      "metadata": {
        "id": "Wvh9dXlpOtFz"
      },
      "execution_count": 45,
      "outputs": []
    },
    {
      "cell_type": "code",
      "source": [
        "print(len(X_train))\n",
        "print(len(X_test))"
      ],
      "metadata": {
        "colab": {
          "base_uri": "https://localhost:8080/"
        },
        "id": "-uyYDaezPGgI",
        "outputId": "960ffc7d-e3e4-4b5c-c801-f2f7fa6de914"
      },
      "execution_count": 46,
      "outputs": [
        {
          "output_type": "stream",
          "name": "stdout",
          "text": [
            "80\n",
            "20\n"
          ]
        }
      ]
    },
    {
      "cell_type": "code",
      "source": [
        "X_train"
      ],
      "metadata": {
        "colab": {
          "base_uri": "https://localhost:8080/"
        },
        "id": "XuZFFvoyPJcQ",
        "outputId": "8d691ab0-5ce2-4194-ec20-9539d792ee9d"
      },
      "execution_count": 47,
      "outputs": [
        {
          "output_type": "execute_result",
          "data": {
            "text/plain": [
              "55    focus dont let others love define youre happy ...\n",
              "88    ronaldo shocking hes tried skill twice hes nea...\n",
              "26         andreasarahco actually heely campus bc scare\n",
              "42    thank disney themed episode letting discover a...\n",
              "69    jeremycorbyn magstogether god jeremycorbyn ful...\n",
              "15    patblanchfield mean like uber despair someone ...\n",
              "40             want playful relationshipnme kicks couch\n",
              "96                              american schools lively\n",
              "9     collects times minerva would chew cape begins ...\n",
              "72    mendiphillsaonb think swallows swifts gone pho...\n",
              "11    omg actually thought going jump southpark sout...\n",
              "47                                       teamgrout glee\n",
              "85    texans astros shut tonight houston back normal...\n",
              "28    old lady cray cray scared bellaissocute awe em...\n",
              "93    tabstamlyn larahunt next time ill make sure ev...\n",
              "5     harboring osama bin laden relationship haqqani...\n",
              "66    much hair nightmare also soft guess winlose si...\n",
              "65    told chiropractor im good time long time quest...\n",
              "35                   seanunfiltered texans scared bunch\n",
              "16                                                awful\n",
              "49        mickeyplyler qualktalk refs gts favor tonight\n",
              "34         induction day tomorrow pizza express nervous\n",
              "7     pastor feet away shooting victim protest says ...\n",
              "95     riggs dumb ass hell lolol hilarious lethalweapon\n",
              "27    hmiglino cparks cocowms bodyfit truthequalsfac...\n",
              "19    leave rulenimber carpet cleaning worsethananat...\n",
              "81    finally leaving first job soon ive working sin...\n",
              "25    wake fresh terror threat sounding alert mumbai...\n",
              "62    rejoice birth grieve funeral person involved m...\n",
              "13    lanewoolery ffkazman experience plays role edu...\n",
              "24    steviet talksport sound like broadcasted someo...\n",
              "3     someone make priority list things outraged ord...\n",
              "17    thehill george h establishment unhappy trumps ...\n",
              "38    thats cute atsu probably shy photos cherry hel...\n",
              "8     guys dating yet trans nervous blowjobs tfb dat...\n",
              "78                 summer officially ends today sadness\n",
              "6     tomorrow last episode despair arc much shit go...\n",
              "64    point living optimist foolish enough believe b...\n",
              "36                                     india afraid bad\n",
              "89                im confused new american horror story\n",
              "56    sadness leaves broken bed hold depths despair ...\n",
              "99    prosyndicate thanks replying im ironing shirt ...\n",
              "54    bietron dont sad btw good night davinago sleep...\n",
              "43    radiox chrismoyles wow heard forever random gr...\n",
              "50            niceonewern alottapain gleesome threesome\n",
              "67    carry wayward son therell peace done lay weary...\n",
              "46    mannersaboveall laughs louder time shaking hea...\n",
              "68    embarrassed saw us like knvfkkjg thinks stalke...\n",
              "61               may optimism tomorrow foundation today\n",
              "97          accept challenges feel exhilaration victory\n",
              "79    final vestiges childhood dashed shoals hearing...\n",
              "41    happy birthday stephen king man responsible be...\n",
              "58    patti seems sad stamped ran behind sofa give p...\n",
              "48    mate thing get excited profession mad client s...\n",
              "98    ever stayed hostels overseas frame reference m...\n",
              "57              follow girl tiff got followers tiffanyr\n",
              "75    possible changing meds best done stress diffic...\n",
              "32                     leafyishere showing biceps scare\n",
              "94    janhopis found first episodes bojack incredibl...\n",
              "59    believed fear allah believe messenger give dou...\n",
              "63    gloriosa bazigaga rwanda work lost relatives g...\n",
              "84    muscled man huge heart messing brain heart los...\n",
              "37            man u lose may actually nervous breakdown\n",
              "29                               hi names anxiety shaun\n",
              "1     im tired everybody telling chill everythings o...\n",
              "52                                                meant\n",
              "21    michaelsalfino still destroys fear walking dea...\n",
              "2     im serious putting words mouth bitch dont add ...\n",
              "23    metpolicefc true none players cops drink chill...\n",
              "87    thixotropic sudden hasnt sunk yet leo knew coming\n",
              "91    hollylolly serious respect man pull bun better...\n",
              "74                  weeks full mondays end disheartened\n",
              "86    last episode makingamurderer poor brendan glad...\n",
              "82     brawndo cure depression mikejudge idiocracytoday\n",
              "20                                vladfucker look rabid\n",
              "60    saved ordering risk life didnt panic stayed ca...\n",
              "71       one wants win wild card play cubs road sadness\n",
              "14    montelwilliams ban goes harm many people disab...\n",
              "92    wildrovertours thank follow good website cheer...\n",
              "51    cigarette burning lauras hand angle chin purse...\n",
              "Name: Tweet, dtype: object"
            ]
          },
          "metadata": {},
          "execution_count": 47
        }
      ]
    },
    {
      "cell_type": "code",
      "source": [
        "X_test"
      ],
      "metadata": {
        "colab": {
          "base_uri": "https://localhost:8080/"
        },
        "id": "S2GO7PKtPNf0",
        "outputId": "fdf5581d-3fdf-4ba0-e241-a167fc418970"
      },
      "execution_count": 48,
      "outputs": [
        {
          "output_type": "execute_result",
          "data": {
            "text/plain": [
              "83                    health think depression feel like\n",
              "53    got asked hoco instagram dm bc someone lost be...\n",
              "70                  mmmm im kinda sad hope shake school\n",
              "45    ff nnthefamilyx nnsoul blues amp rock bandnnmu...\n",
              "44    happy birthday lost lost dharmainitiative year...\n",
              "39                                manchester derby home\n",
              "22                               mcauleyross rojo awful\n",
              "80                            made world empath unhappy\n",
              "10    page script due friday class said could mfa th...\n",
              "0                     false alarm matoma amp becky hill\n",
              "18    sky news still pushing brexit gloom line manag...\n",
              "30         hope sleep nightmare bakewell tarts yuk gbbo\n",
              "73    wishing rich didnt get morning poor sleepy sad...\n",
              "33    courage cowardly dog like american horror stor...\n",
              "90    tulsa police manufacture murder wonder carry b...\n",
              "4     teapartyorg hes right civil war starts wall wa...\n",
              "76              gutted dropped one earrings sink school\n",
              "77    antoboyle wish could someday come spain play c...\n",
              "12    dont know expect brendons video lmao la devote...\n",
              "31    kennycoble rosie horrific situations get worse...\n",
              "Name: Tweet, dtype: object"
            ]
          },
          "metadata": {},
          "execution_count": 48
        }
      ]
    },
    {
      "cell_type": "markdown",
      "source": [
        "## **Step 4.1: Feature Extraction**"
      ],
      "metadata": {
        "id": "7BdK2wZiPUZj"
      }
    },
    {
      "cell_type": "code",
      "source": [
        "# Initialize the TfidfVectorizer\n",
        "vectorizer = TfidfVectorizer(max_features=10)"
      ],
      "metadata": {
        "id": "swyUOee5PfOy"
      },
      "execution_count": 50,
      "outputs": []
    },
    {
      "cell_type": "code",
      "source": [
        "# Fit the vectorizer on the training data\n",
        "vectorizer.fit(X_train)"
      ],
      "metadata": {
        "colab": {
          "base_uri": "https://localhost:8080/",
          "height": 74
        },
        "id": "gPgGw0m0PYl_",
        "outputId": "f095ecd4-bc1e-44d1-a776-993e10bbab00"
      },
      "execution_count": 51,
      "outputs": [
        {
          "output_type": "execute_result",
          "data": {
            "text/plain": [
              "TfidfVectorizer(max_features=10)"
            ],
            "text/html": [
              "<style>#sk-container-id-1 {color: black;}#sk-container-id-1 pre{padding: 0;}#sk-container-id-1 div.sk-toggleable {background-color: white;}#sk-container-id-1 label.sk-toggleable__label {cursor: pointer;display: block;width: 100%;margin-bottom: 0;padding: 0.3em;box-sizing: border-box;text-align: center;}#sk-container-id-1 label.sk-toggleable__label-arrow:before {content: \"▸\";float: left;margin-right: 0.25em;color: #696969;}#sk-container-id-1 label.sk-toggleable__label-arrow:hover:before {color: black;}#sk-container-id-1 div.sk-estimator:hover label.sk-toggleable__label-arrow:before {color: black;}#sk-container-id-1 div.sk-toggleable__content {max-height: 0;max-width: 0;overflow: hidden;text-align: left;background-color: #f0f8ff;}#sk-container-id-1 div.sk-toggleable__content pre {margin: 0.2em;color: black;border-radius: 0.25em;background-color: #f0f8ff;}#sk-container-id-1 input.sk-toggleable__control:checked~div.sk-toggleable__content {max-height: 200px;max-width: 100%;overflow: auto;}#sk-container-id-1 input.sk-toggleable__control:checked~label.sk-toggleable__label-arrow:before {content: \"▾\";}#sk-container-id-1 div.sk-estimator input.sk-toggleable__control:checked~label.sk-toggleable__label {background-color: #d4ebff;}#sk-container-id-1 div.sk-label input.sk-toggleable__control:checked~label.sk-toggleable__label {background-color: #d4ebff;}#sk-container-id-1 input.sk-hidden--visually {border: 0;clip: rect(1px 1px 1px 1px);clip: rect(1px, 1px, 1px, 1px);height: 1px;margin: -1px;overflow: hidden;padding: 0;position: absolute;width: 1px;}#sk-container-id-1 div.sk-estimator {font-family: monospace;background-color: #f0f8ff;border: 1px dotted black;border-radius: 0.25em;box-sizing: border-box;margin-bottom: 0.5em;}#sk-container-id-1 div.sk-estimator:hover {background-color: #d4ebff;}#sk-container-id-1 div.sk-parallel-item::after {content: \"\";width: 100%;border-bottom: 1px solid gray;flex-grow: 1;}#sk-container-id-1 div.sk-label:hover label.sk-toggleable__label {background-color: #d4ebff;}#sk-container-id-1 div.sk-serial::before {content: \"\";position: absolute;border-left: 1px solid gray;box-sizing: border-box;top: 0;bottom: 0;left: 50%;z-index: 0;}#sk-container-id-1 div.sk-serial {display: flex;flex-direction: column;align-items: center;background-color: white;padding-right: 0.2em;padding-left: 0.2em;position: relative;}#sk-container-id-1 div.sk-item {position: relative;z-index: 1;}#sk-container-id-1 div.sk-parallel {display: flex;align-items: stretch;justify-content: center;background-color: white;position: relative;}#sk-container-id-1 div.sk-item::before, #sk-container-id-1 div.sk-parallel-item::before {content: \"\";position: absolute;border-left: 1px solid gray;box-sizing: border-box;top: 0;bottom: 0;left: 50%;z-index: -1;}#sk-container-id-1 div.sk-parallel-item {display: flex;flex-direction: column;z-index: 1;position: relative;background-color: white;}#sk-container-id-1 div.sk-parallel-item:first-child::after {align-self: flex-end;width: 50%;}#sk-container-id-1 div.sk-parallel-item:last-child::after {align-self: flex-start;width: 50%;}#sk-container-id-1 div.sk-parallel-item:only-child::after {width: 0;}#sk-container-id-1 div.sk-dashed-wrapped {border: 1px dashed gray;margin: 0 0.4em 0.5em 0.4em;box-sizing: border-box;padding-bottom: 0.4em;background-color: white;}#sk-container-id-1 div.sk-label label {font-family: monospace;font-weight: bold;display: inline-block;line-height: 1.2em;}#sk-container-id-1 div.sk-label-container {text-align: center;}#sk-container-id-1 div.sk-container {/* jupyter's `normalize.less` sets `[hidden] { display: none; }` but bootstrap.min.css set `[hidden] { display: none !important; }` so we also need the `!important` here to be able to override the default hidden behavior on the sphinx rendered scikit-learn.org. See: https://github.com/scikit-learn/scikit-learn/issues/21755 */display: inline-block !important;position: relative;}#sk-container-id-1 div.sk-text-repr-fallback {display: none;}</style><div id=\"sk-container-id-1\" class=\"sk-top-container\"><div class=\"sk-text-repr-fallback\"><pre>TfidfVectorizer(max_features=10)</pre><b>In a Jupyter environment, please rerun this cell to show the HTML representation or trust the notebook. <br />On GitHub, the HTML representation is unable to render, please try loading this page with nbviewer.org.</b></div><div class=\"sk-container\" hidden><div class=\"sk-item\"><div class=\"sk-estimator sk-toggleable\"><input class=\"sk-toggleable__control sk-hidden--visually\" id=\"sk-estimator-id-1\" type=\"checkbox\" checked><label for=\"sk-estimator-id-1\" class=\"sk-toggleable__label sk-toggleable__label-arrow\">TfidfVectorizer</label><div class=\"sk-toggleable__content\"><pre>TfidfVectorizer(max_features=10)</pre></div></div></div></div></div>"
            ]
          },
          "metadata": {},
          "execution_count": 51
        }
      ]
    },
    {
      "cell_type": "markdown",
      "source": [
        "**Fitting the Vectorizer on the Training Data**"
      ],
      "metadata": {
        "id": "stoelCS2Pjit"
      }
    },
    {
      "cell_type": "code",
      "source": [
        "# Fit the vectorizer on the training data\n",
        "vectorizer.fit(X_train)"
      ],
      "metadata": {
        "colab": {
          "base_uri": "https://localhost:8080/",
          "height": 74
        },
        "id": "3dm2qeL9Ppdv",
        "outputId": "804884e1-f18d-4ecd-fdc3-e78dbf35128e"
      },
      "execution_count": 52,
      "outputs": [
        {
          "output_type": "execute_result",
          "data": {
            "text/plain": [
              "TfidfVectorizer(max_features=10)"
            ],
            "text/html": [
              "<style>#sk-container-id-2 {color: black;}#sk-container-id-2 pre{padding: 0;}#sk-container-id-2 div.sk-toggleable {background-color: white;}#sk-container-id-2 label.sk-toggleable__label {cursor: pointer;display: block;width: 100%;margin-bottom: 0;padding: 0.3em;box-sizing: border-box;text-align: center;}#sk-container-id-2 label.sk-toggleable__label-arrow:before {content: \"▸\";float: left;margin-right: 0.25em;color: #696969;}#sk-container-id-2 label.sk-toggleable__label-arrow:hover:before {color: black;}#sk-container-id-2 div.sk-estimator:hover label.sk-toggleable__label-arrow:before {color: black;}#sk-container-id-2 div.sk-toggleable__content {max-height: 0;max-width: 0;overflow: hidden;text-align: left;background-color: #f0f8ff;}#sk-container-id-2 div.sk-toggleable__content pre {margin: 0.2em;color: black;border-radius: 0.25em;background-color: #f0f8ff;}#sk-container-id-2 input.sk-toggleable__control:checked~div.sk-toggleable__content {max-height: 200px;max-width: 100%;overflow: auto;}#sk-container-id-2 input.sk-toggleable__control:checked~label.sk-toggleable__label-arrow:before {content: \"▾\";}#sk-container-id-2 div.sk-estimator input.sk-toggleable__control:checked~label.sk-toggleable__label {background-color: #d4ebff;}#sk-container-id-2 div.sk-label input.sk-toggleable__control:checked~label.sk-toggleable__label {background-color: #d4ebff;}#sk-container-id-2 input.sk-hidden--visually {border: 0;clip: rect(1px 1px 1px 1px);clip: rect(1px, 1px, 1px, 1px);height: 1px;margin: -1px;overflow: hidden;padding: 0;position: absolute;width: 1px;}#sk-container-id-2 div.sk-estimator {font-family: monospace;background-color: #f0f8ff;border: 1px dotted black;border-radius: 0.25em;box-sizing: border-box;margin-bottom: 0.5em;}#sk-container-id-2 div.sk-estimator:hover {background-color: #d4ebff;}#sk-container-id-2 div.sk-parallel-item::after {content: \"\";width: 100%;border-bottom: 1px solid gray;flex-grow: 1;}#sk-container-id-2 div.sk-label:hover label.sk-toggleable__label {background-color: #d4ebff;}#sk-container-id-2 div.sk-serial::before {content: \"\";position: absolute;border-left: 1px solid gray;box-sizing: border-box;top: 0;bottom: 0;left: 50%;z-index: 0;}#sk-container-id-2 div.sk-serial {display: flex;flex-direction: column;align-items: center;background-color: white;padding-right: 0.2em;padding-left: 0.2em;position: relative;}#sk-container-id-2 div.sk-item {position: relative;z-index: 1;}#sk-container-id-2 div.sk-parallel {display: flex;align-items: stretch;justify-content: center;background-color: white;position: relative;}#sk-container-id-2 div.sk-item::before, #sk-container-id-2 div.sk-parallel-item::before {content: \"\";position: absolute;border-left: 1px solid gray;box-sizing: border-box;top: 0;bottom: 0;left: 50%;z-index: -1;}#sk-container-id-2 div.sk-parallel-item {display: flex;flex-direction: column;z-index: 1;position: relative;background-color: white;}#sk-container-id-2 div.sk-parallel-item:first-child::after {align-self: flex-end;width: 50%;}#sk-container-id-2 div.sk-parallel-item:last-child::after {align-self: flex-start;width: 50%;}#sk-container-id-2 div.sk-parallel-item:only-child::after {width: 0;}#sk-container-id-2 div.sk-dashed-wrapped {border: 1px dashed gray;margin: 0 0.4em 0.5em 0.4em;box-sizing: border-box;padding-bottom: 0.4em;background-color: white;}#sk-container-id-2 div.sk-label label {font-family: monospace;font-weight: bold;display: inline-block;line-height: 1.2em;}#sk-container-id-2 div.sk-label-container {text-align: center;}#sk-container-id-2 div.sk-container {/* jupyter's `normalize.less` sets `[hidden] { display: none; }` but bootstrap.min.css set `[hidden] { display: none !important; }` so we also need the `!important` here to be able to override the default hidden behavior on the sphinx rendered scikit-learn.org. See: https://github.com/scikit-learn/scikit-learn/issues/21755 */display: inline-block !important;position: relative;}#sk-container-id-2 div.sk-text-repr-fallback {display: none;}</style><div id=\"sk-container-id-2\" class=\"sk-top-container\"><div class=\"sk-text-repr-fallback\"><pre>TfidfVectorizer(max_features=10)</pre><b>In a Jupyter environment, please rerun this cell to show the HTML representation or trust the notebook. <br />On GitHub, the HTML representation is unable to render, please try loading this page with nbviewer.org.</b></div><div class=\"sk-container\" hidden><div class=\"sk-item\"><div class=\"sk-estimator sk-toggleable\"><input class=\"sk-toggleable__control sk-hidden--visually\" id=\"sk-estimator-id-2\" type=\"checkbox\" checked><label for=\"sk-estimator-id-2\" class=\"sk-toggleable__label sk-toggleable__label-arrow\">TfidfVectorizer</label><div class=\"sk-toggleable__content\"><pre>TfidfVectorizer(max_features=10)</pre></div></div></div></div></div>"
            ]
          },
          "metadata": {},
          "execution_count": 52
        }
      ]
    },
    {
      "cell_type": "markdown",
      "source": [
        "**Transforming the Training Data**"
      ],
      "metadata": {
        "id": "3O-UxKEBP2Bu"
      }
    },
    {
      "cell_type": "code",
      "source": [
        "# Transform the training data\n",
        "X_train_tfidf = vectorizer.transform(X_train)"
      ],
      "metadata": {
        "id": "BuVWG8qEP4B6"
      },
      "execution_count": 53,
      "outputs": []
    },
    {
      "cell_type": "markdown",
      "source": [
        "**Converting the TF-IDF Sparse Matrix to a DataFrame**"
      ],
      "metadata": {
        "id": "ht4fNuO8P-hl"
      }
    },
    {
      "cell_type": "code",
      "source": [
        "# Convert the TF-IDF sparse matrix to a DataFrame\n",
        "X_train_tfidf_df = pd.DataFrame(X_train_tfidf.toarray(), columns=vectorizer.get_feature_names_out())\n",
        "\n",
        "print(\"\\nTF-IDF Features DataFrame:\")\n",
        "print(X_train_tfidf_df.head())"
      ],
      "metadata": {
        "colab": {
          "base_uri": "https://localhost:8080/"
        },
        "id": "4AxaaX1XQAV1",
        "outputId": "e94105da-7db4-49ce-de0a-06e196ee3ffc"
      },
      "execution_count": 54,
      "outputs": [
        {
          "output_type": "stream",
          "name": "stdout",
          "text": [
            "\n",
            "TF-IDF Features DataFrame:\n",
            "   despair      dont   im  like      love  man  sad  sadness  time  yet\n",
            "0      0.0  0.894427  0.0   0.0  0.447214  0.0  0.0      0.0   0.0  0.0\n",
            "1      0.0  0.000000  0.0   0.0  0.000000  0.0  0.0      0.0   0.0  0.0\n",
            "2      0.0  0.000000  0.0   0.0  0.000000  0.0  0.0      0.0   0.0  0.0\n",
            "3      0.0  0.000000  0.0   0.0  0.000000  0.0  0.0      0.0   0.0  0.0\n",
            "4      0.0  0.000000  0.0   0.0  0.000000  0.0  1.0      0.0   0.0  0.0\n"
          ]
        }
      ]
    },
    {
      "cell_type": "markdown",
      "source": [
        "**Transforming and Converting the Test Data**"
      ],
      "metadata": {
        "id": "YoKs0cJTQJXR"
      }
    },
    {
      "cell_type": "code",
      "source": [
        "# Transform the training data\n",
        "X_test_tfidf = vectorizer.transform(X_test)\n",
        "\n",
        "# Convert the TF-IDF sparse matrix to a DataFrame\n",
        "X_test_tfidf_df = pd.DataFrame(X_test_tfidf.toarray(), columns=vectorizer.get_feature_names_out())\n",
        "\n",
        "print(\"\\nTF-IDF Features DataFrame:\")\n",
        "print(X_test_tfidf_df.head())\n",
        "\n",
        "#to do Parameter tuninng we are not clear how many features are optimal"
      ],
      "metadata": {
        "colab": {
          "base_uri": "https://localhost:8080/"
        },
        "id": "B1LlZCaHQOP4",
        "outputId": "2f9cf9cf-0085-43b1-a018-455b94109271"
      },
      "execution_count": 55,
      "outputs": [
        {
          "output_type": "stream",
          "name": "stdout",
          "text": [
            "\n",
            "TF-IDF Features DataFrame:\n",
            "   despair  dont        im  like  love  man       sad  sadness  time  yet\n",
            "0      0.0   0.0  0.000000   1.0   0.0  0.0  0.000000      0.0   0.0  0.0\n",
            "1      0.0   0.0  0.000000   0.0   1.0  0.0  0.000000      0.0   0.0  0.0\n",
            "2      0.0   0.0  0.658856   0.0   0.0  0.0  0.752269      0.0   0.0  0.0\n",
            "3      0.0   0.0  0.000000   0.0   0.0  0.0  0.000000      0.0   0.0  0.0\n",
            "4      0.0   0.0  0.000000   0.0   0.0  0.0  0.000000      0.0   0.0  0.0\n"
          ]
        }
      ]
    },
    {
      "cell_type": "markdown",
      "source": [
        "# **Step 5 : Label Encoding does not required.**"
      ],
      "metadata": {
        "id": "j6zWIi8UQToU"
      }
    },
    {
      "cell_type": "markdown",
      "source": [
        "## **Step 6: Execute the Training Phase**"
      ],
      "metadata": {
        "id": "rIyLrjJrQX70"
      }
    },
    {
      "cell_type": "markdown",
      "source": [
        "## **Step 6.1: Training Data and Testing Data**"
      ],
      "metadata": {
        "id": "C9-KXNzDQfiE"
      }
    },
    {
      "cell_type": "markdown",
      "source": [
        "## **Step 6.2: Train the model**"
      ],
      "metadata": {
        "id": "4Tkuy9OFQhXt"
      }
    },
    {
      "cell_type": "code",
      "source": [
        "# Training the model\n",
        "model = MultinomialNB()\n",
        "model.fit(X_train_tfidf, y_train)"
      ],
      "metadata": {
        "colab": {
          "base_uri": "https://localhost:8080/",
          "height": 74
        },
        "id": "23mN0UuxQphJ",
        "outputId": "d1e934c2-89b2-4ec9-ce2c-0d5b201d3b05"
      },
      "execution_count": 56,
      "outputs": [
        {
          "output_type": "execute_result",
          "data": {
            "text/plain": [
              "MultinomialNB()"
            ],
            "text/html": [
              "<style>#sk-container-id-3 {color: black;}#sk-container-id-3 pre{padding: 0;}#sk-container-id-3 div.sk-toggleable {background-color: white;}#sk-container-id-3 label.sk-toggleable__label {cursor: pointer;display: block;width: 100%;margin-bottom: 0;padding: 0.3em;box-sizing: border-box;text-align: center;}#sk-container-id-3 label.sk-toggleable__label-arrow:before {content: \"▸\";float: left;margin-right: 0.25em;color: #696969;}#sk-container-id-3 label.sk-toggleable__label-arrow:hover:before {color: black;}#sk-container-id-3 div.sk-estimator:hover label.sk-toggleable__label-arrow:before {color: black;}#sk-container-id-3 div.sk-toggleable__content {max-height: 0;max-width: 0;overflow: hidden;text-align: left;background-color: #f0f8ff;}#sk-container-id-3 div.sk-toggleable__content pre {margin: 0.2em;color: black;border-radius: 0.25em;background-color: #f0f8ff;}#sk-container-id-3 input.sk-toggleable__control:checked~div.sk-toggleable__content {max-height: 200px;max-width: 100%;overflow: auto;}#sk-container-id-3 input.sk-toggleable__control:checked~label.sk-toggleable__label-arrow:before {content: \"▾\";}#sk-container-id-3 div.sk-estimator input.sk-toggleable__control:checked~label.sk-toggleable__label {background-color: #d4ebff;}#sk-container-id-3 div.sk-label input.sk-toggleable__control:checked~label.sk-toggleable__label {background-color: #d4ebff;}#sk-container-id-3 input.sk-hidden--visually {border: 0;clip: rect(1px 1px 1px 1px);clip: rect(1px, 1px, 1px, 1px);height: 1px;margin: -1px;overflow: hidden;padding: 0;position: absolute;width: 1px;}#sk-container-id-3 div.sk-estimator {font-family: monospace;background-color: #f0f8ff;border: 1px dotted black;border-radius: 0.25em;box-sizing: border-box;margin-bottom: 0.5em;}#sk-container-id-3 div.sk-estimator:hover {background-color: #d4ebff;}#sk-container-id-3 div.sk-parallel-item::after {content: \"\";width: 100%;border-bottom: 1px solid gray;flex-grow: 1;}#sk-container-id-3 div.sk-label:hover label.sk-toggleable__label {background-color: #d4ebff;}#sk-container-id-3 div.sk-serial::before {content: \"\";position: absolute;border-left: 1px solid gray;box-sizing: border-box;top: 0;bottom: 0;left: 50%;z-index: 0;}#sk-container-id-3 div.sk-serial {display: flex;flex-direction: column;align-items: center;background-color: white;padding-right: 0.2em;padding-left: 0.2em;position: relative;}#sk-container-id-3 div.sk-item {position: relative;z-index: 1;}#sk-container-id-3 div.sk-parallel {display: flex;align-items: stretch;justify-content: center;background-color: white;position: relative;}#sk-container-id-3 div.sk-item::before, #sk-container-id-3 div.sk-parallel-item::before {content: \"\";position: absolute;border-left: 1px solid gray;box-sizing: border-box;top: 0;bottom: 0;left: 50%;z-index: -1;}#sk-container-id-3 div.sk-parallel-item {display: flex;flex-direction: column;z-index: 1;position: relative;background-color: white;}#sk-container-id-3 div.sk-parallel-item:first-child::after {align-self: flex-end;width: 50%;}#sk-container-id-3 div.sk-parallel-item:last-child::after {align-self: flex-start;width: 50%;}#sk-container-id-3 div.sk-parallel-item:only-child::after {width: 0;}#sk-container-id-3 div.sk-dashed-wrapped {border: 1px dashed gray;margin: 0 0.4em 0.5em 0.4em;box-sizing: border-box;padding-bottom: 0.4em;background-color: white;}#sk-container-id-3 div.sk-label label {font-family: monospace;font-weight: bold;display: inline-block;line-height: 1.2em;}#sk-container-id-3 div.sk-label-container {text-align: center;}#sk-container-id-3 div.sk-container {/* jupyter's `normalize.less` sets `[hidden] { display: none; }` but bootstrap.min.css set `[hidden] { display: none !important; }` so we also need the `!important` here to be able to override the default hidden behavior on the sphinx rendered scikit-learn.org. See: https://github.com/scikit-learn/scikit-learn/issues/21755 */display: inline-block !important;position: relative;}#sk-container-id-3 div.sk-text-repr-fallback {display: none;}</style><div id=\"sk-container-id-3\" class=\"sk-top-container\"><div class=\"sk-text-repr-fallback\"><pre>MultinomialNB()</pre><b>In a Jupyter environment, please rerun this cell to show the HTML representation or trust the notebook. <br />On GitHub, the HTML representation is unable to render, please try loading this page with nbviewer.org.</b></div><div class=\"sk-container\" hidden><div class=\"sk-item\"><div class=\"sk-estimator sk-toggleable\"><input class=\"sk-toggleable__control sk-hidden--visually\" id=\"sk-estimator-id-3\" type=\"checkbox\" checked><label for=\"sk-estimator-id-3\" class=\"sk-toggleable__label sk-toggleable__label-arrow\">MultinomialNB</label><div class=\"sk-toggleable__content\"><pre>MultinomialNB()</pre></div></div></div></div></div>"
            ]
          },
          "metadata": {},
          "execution_count": 56
        }
      ]
    },
    {
      "cell_type": "markdown",
      "source": [
        "## **Step 6.3: Save the trained model**"
      ],
      "metadata": {
        "id": "sIQearx0Qsz2"
      }
    },
    {
      "cell_type": "code",
      "source": [
        "# Save the model to disk\n",
        "joblib.dump(model, 'naive_bayes_model.pkl')\n",
        "\n",
        "# Save the vectorizer to disk\n",
        "joblib.dump(vectorizer, 'tfidf_vectorizer.pkl')\n"
      ],
      "metadata": {
        "colab": {
          "base_uri": "https://localhost:8080/"
        },
        "id": "w3mYdLvpQvKd",
        "outputId": "afa6501c-76f4-4969-d89e-e134881a596a"
      },
      "execution_count": 57,
      "outputs": [
        {
          "output_type": "execute_result",
          "data": {
            "text/plain": [
              "['tfidf_vectorizer.pkl']"
            ]
          },
          "metadata": {},
          "execution_count": 57
        }
      ]
    },
    {
      "cell_type": "markdown",
      "source": [
        "# **Step 7: Execute the Testing Phase**"
      ],
      "metadata": {
        "id": "RBe-DJSmQ2V5"
      }
    },
    {
      "cell_type": "markdown",
      "source": [
        "## **Step 7.1: Load the Saved Model**"
      ],
      "metadata": {
        "id": "aV2WTqGKQ60N"
      }
    },
    {
      "cell_type": "code",
      "source": [
        "import joblib\n",
        "\n",
        "# Load the model from disk\n",
        "loaded_model = joblib.load('naive_bayes_model.pkl')\n",
        "\n",
        "# Load the vectorizer from disk\n",
        "loaded_vectorizer = joblib.load('tfidf_vectorizer.pkl')\n",
        "\n",
        "print(f\"Model loaded from 'naive_bayes_model.pkl'\")\n"
      ],
      "metadata": {
        "colab": {
          "base_uri": "https://localhost:8080/"
        },
        "id": "edQf_8ZrQ_J0",
        "outputId": "8aa61108-a466-48c9-f405-431d835c6897"
      },
      "execution_count": 58,
      "outputs": [
        {
          "output_type": "stream",
          "name": "stdout",
          "text": [
            "Model loaded from 'naive_bayes_model.pkl'\n"
          ]
        }
      ]
    },
    {
      "cell_type": "markdown",
      "source": [
        "## **Step 7.2: Evaluate the Machine Learning Model**"
      ],
      "metadata": {
        "id": "JaDNpwJeRDY5"
      }
    },
    {
      "cell_type": "code",
      "source": [
        "# Transform the test data using the loaded vectorizer\n",
        "X_test_tfidf_loaded = loaded_vectorizer.transform(X_test)\n",
        "\n",
        "# Evaluate the loaded model\n",
        "y_pred_loaded = loaded_model.predict(X_test_tfidf_loaded)\n",
        "accuracy_loaded = accuracy_score(y_test, y_pred_loaded)\n",
        "report_loaded = classification_report(y_test, y_pred_loaded)\n",
        "\n",
        "print(f\"Accuracy: {accuracy_loaded}\")\n",
        "print(\"Classification Report:\")\n",
        "print(report_loaded)\n"
      ],
      "metadata": {
        "colab": {
          "base_uri": "https://localhost:8080/"
        },
        "id": "lWXBUK3jRIuW",
        "outputId": "6178e225-5950-457b-e182-b3036a13a423"
      },
      "execution_count": 59,
      "outputs": [
        {
          "output_type": "stream",
          "name": "stdout",
          "text": [
            "Accuracy: 0.15\n",
            "Classification Report:\n",
            "              precision    recall  f1-score   support\n",
            "\n",
            "       anger       0.00      0.00      0.00         2\n",
            "anticipation       0.00      0.00      0.00         2\n",
            "     disgust       0.00      0.00      0.00         2\n",
            "        fear       0.17      0.67      0.27         3\n",
            "         joy       0.00      0.00      0.00         3\n",
            "        love       0.25      1.00      0.40         1\n",
            "   pessimism       0.00      0.00      0.00         2\n",
            "     sadness       0.00      0.00      0.00         4\n",
            "    surprise       0.00      0.00      0.00         1\n",
            "\n",
            "    accuracy                           0.15        20\n",
            "   macro avg       0.05      0.19      0.07        20\n",
            "weighted avg       0.04      0.15      0.06        20\n",
            "\n"
          ]
        },
        {
          "output_type": "stream",
          "name": "stderr",
          "text": [
            "/usr/local/lib/python3.10/dist-packages/sklearn/metrics/_classification.py:1471: UndefinedMetricWarning: Precision and F-score are ill-defined and being set to 0.0 in labels with no predicted samples. Use `zero_division` parameter to control this behavior.\n",
            "  _warn_prf(average, modifier, msg_start, len(result))\n",
            "/usr/local/lib/python3.10/dist-packages/sklearn/metrics/_classification.py:1471: UndefinedMetricWarning: Precision and F-score are ill-defined and being set to 0.0 in labels with no predicted samples. Use `zero_division` parameter to control this behavior.\n",
            "  _warn_prf(average, modifier, msg_start, len(result))\n",
            "/usr/local/lib/python3.10/dist-packages/sklearn/metrics/_classification.py:1471: UndefinedMetricWarning: Precision and F-score are ill-defined and being set to 0.0 in labels with no predicted samples. Use `zero_division` parameter to control this behavior.\n",
            "  _warn_prf(average, modifier, msg_start, len(result))\n"
          ]
        }
      ]
    },
    {
      "cell_type": "markdown",
      "source": [
        "## **Step 7.3: Displaying the Confusion Matrix**"
      ],
      "metadata": {
        "id": "EfENe1lXRPyK"
      }
    },
    {
      "cell_type": "code",
      "source": [
        "# Confusion Matrix\n",
        "conf_matrix = confusion_matrix(y_test, y_pred_loaded)\n",
        "print(\"Confusion Matrix:\")\n",
        "print(conf_matrix)\n",
        "\n",
        "# Plot Confusion Matrix\n",
        "plt.figure(figsize=(10, 7))\n",
        "sns.heatmap(conf_matrix, annot=True, fmt='d', cmap='Blues', xticklabels=sorted(data['Emotion'].unique()), yticklabels=sorted(data['Emotion'].unique()))\n",
        "plt.xlabel('Predicted')\n",
        "plt.ylabel('Actual')\n",
        "plt.title('Confusion Matrix')\n",
        "plt.show()"
      ],
      "metadata": {
        "colab": {
          "base_uri": "https://localhost:8080/",
          "height": 883
        },
        "id": "NOKNl8qmRRn3",
        "outputId": "ca1a35d2-d2fd-44dc-9ed0-6e698366ea35"
      },
      "execution_count": 68,
      "outputs": [
        {
          "output_type": "stream",
          "name": "stdout",
          "text": [
            "Confusion Matrix:\n",
            "[[0 0 0 1 0 1 0 0 0]\n",
            " [0 0 0 1 0 1 0 0 0]\n",
            " [0 0 0 2 0 0 0 0 0]\n",
            " [0 0 1 2 0 0 0 0 0]\n",
            " [0 0 0 3 0 0 0 0 0]\n",
            " [0 0 0 0 0 1 0 0 0]\n",
            " [0 0 0 0 1 1 0 0 0]\n",
            " [0 0 1 2 1 0 0 0 0]\n",
            " [0 0 0 1 0 0 0 0 0]]\n"
          ]
        },
        {
          "output_type": "display_data",
          "data": {
            "text/plain": [
              "<Figure size 1000x700 with 2 Axes>"
            ],
            "image/png": "[encoded data removed]"
          },
          "metadata": {}
        }
      ]
    },
    {
      "cell_type": "markdown",
      "source": [
        "# **Step 8: Execute the Application Phase**"
      ],
      "metadata": {
        "id": "4lxYMihGUivv"
      }
    },
    {
      "cell_type": "markdown",
      "source": [
        "## **Step 8.1: Take Input from User, Preprocess it**"
      ],
      "metadata": {
        "id": "ON7VxMGnUnO1"
      }
    },
    {
      "cell_type": "code",
      "source": [
        "# Preprocess the user input\n",
        "def preprocess_user_input(text):\n",
        "    stop_words = set(stopwords.words('english'))\n",
        "    text = re.sub(r'[^a-zA-Z\\s]', '', text)\n",
        "    text = text.lower()\n",
        "    text = ' '.join(word for word in text.split() if word not in stop_words)\n",
        "    return text\n",
        "\n",
        "try:\n",
        "    # Take user input\n",
        "    user_input = input(\"Please enter your text: \").strip()\n",
        "    cleaned_input = preprocess_user_input(user_input)\n",
        "    print(\"Processed Input:\", cleaned_input)\n",
        "except KeyboardInterrupt:\n",
        "    print(\"\\nInput was interrupted. Exiting gracefully.\")\n",
        "\n"
      ],
      "metadata": {
        "colab": {
          "base_uri": "https://localhost:8080/"
        },
        "id": "2sWJy6haUpIt",
        "outputId": "a73624b8-14a1-435f-a263-3db827e29981"
      },
      "execution_count": 76,
      "outputs": [
        {
          "output_type": "stream",
          "name": "stdout",
          "text": [
            "\n",
            "Input was interrupted. Exiting gracefully.\n"
          ]
        }
      ]
    },
    {
      "cell_type": "markdown",
      "source": [
        "## **Step 8.2: Load the Saved Model**"
      ],
      "metadata": {
        "id": "_uV-1k_RXZV-"
      }
    },
    {
      "cell_type": "code",
      "source": [
        "# Load the vectorizer and the model (ensure these are the same as used during training)\n",
        "vectorizer = joblib.load('tfidf_vectorizer.pkl')\n",
        "model = joblib.load('naive_bayes_model.pkl')"
      ],
      "metadata": {
        "id": "vIR4NaB8XbXR"
      },
      "execution_count": 77,
      "outputs": []
    },
    {
      "cell_type": "markdown",
      "source": [
        "## **Step 8.3: Transform the user input using the loaded vectorizer**"
      ],
      "metadata": {
        "id": "3eQbFcw4XihX"
      }
    },
    {
      "cell_type": "code",
      "source": [
        "import pandas as pd\n",
        "from sklearn.feature_extraction.text import TfidfVectorizer\n",
        "\n",
        "# Sample user input after preprocessing\n",
        "cleaned_input = \"successful rest assured covid best vaccine irritate eyes time\"\n",
        "\n",
        "# Assume vectorizer is a previously fitted TfidfVectorizer\n",
        "# For demonstration, we'll create and fit the vectorizer here (in practice, use the saved model)\n",
        "corpus = [\n",
        "    \"This is a sample document.\",\n",
        "    \"Another sample document for TF-IDF.\",\n",
        "    \"More data to test TF-IDF vectorizer.\"\n",
        "]\n",
        "vectorizer = TfidfVectorizer()\n",
        "vectorizer.fit(corpus)  # Normally, this would be fitted on your actual training data\n",
        "\n",
        "# Transform the cleaned input using the vectorizer\n",
        "X_test_tfidf_loaded = vectorizer.transform([cleaned_input])  # Wrap the cleaned input in a list\n",
        "\n",
        "# Convert the TF-IDF sparse matrix to a DataFrame\n",
        "X_test_tfidf_loaded_df = pd.DataFrame(X_test_tfidf_loaded.toarray(), columns=vectorizer.get_feature_names_out())\n",
        "\n",
        "print(\"\\nTF-IDF Features DataFrame for User Input:\")\n",
        "print(X_test_tfidf_loaded_df)\n"
      ],
      "metadata": {
        "colab": {
          "base_uri": "https://localhost:8080/"
        },
        "id": "hM6H7ddyXnEa",
        "outputId": "7a577a60-9bba-4a68-80cf-d5ba38d8565f"
      },
      "execution_count": 81,
      "outputs": [
        {
          "output_type": "stream",
          "name": "stdout",
          "text": [
            "\n",
            "TF-IDF Features DataFrame for User Input:\n",
            "   another  data  document  for  idf   is  more  sample  test   tf  this   to  \\\n",
            "0      0.0   0.0       0.0  0.0  0.0  0.0   0.0     0.0   0.0  0.0   0.0  0.0   \n",
            "\n",
            "   vectorizer  \n",
            "0         0.0  \n"
          ]
        }
      ]
    },
    {
      "cell_type": "code",
      "source": [
        "# Transform the user input using the loaded vectorizer\n",
        "user_input_tfidf = vectorizer.transform([cleaned_input])"
      ],
      "metadata": {
        "id": "pkAgSF5SZYpj"
      },
      "execution_count": 82,
      "outputs": []
    },
    {
      "cell_type": "markdown",
      "source": [
        "## **Step 8.4: Predict the Emotion of the user input**"
      ],
      "metadata": {
        "id": "4Oy7J8uyZcq1"
      }
    },
    {
      "cell_type": "code",
      "source": [
        "import numpy as np\n",
        "\n",
        "# Predict the emotion probabilities\n",
        "emotion_probabilities = model.predict_proba(X_test_tfidf_df)\n",
        "\n",
        "# Get the index of the highest probability\n",
        "predicted_index = np.argmax(emotion_probabilities, axis=1)\n",
        "\n",
        "# Output the emotion prediction\n",
        "predicted_emotion = emotions[predicted_index[0]]\n",
        "print(f\"The emotion of {user_input_tfidf} is: {predicted_emotion}\")\n"
      ],
      "metadata": {
        "colab": {
          "base_uri": "https://localhost:8080/"
        },
        "id": "Tf-8CC-RZev4",
        "outputId": "e0cb5aea-df69-47d4-f9f2-622f12ad3d13"
      },
      "execution_count": 91,
      "outputs": [
        {
          "output_type": "stream",
          "name": "stdout",
          "text": [
            "The emotion of  is: disgust\n"
          ]
        },
        {
          "output_type": "stream",
          "name": "stderr",
          "text": [
            "/usr/local/lib/python3.10/dist-packages/sklearn/base.py:458: UserWarning: X has feature names, but MultinomialNB was fitted without feature names\n",
            "  warnings.warn(\n"
          ]
        }
      ]
    },
    {
      "cell_type": "markdown",
      "source": [
        "# **Step 9: Execute the Feedback Phase**"
      ],
      "metadata": {
        "id": "q_UPdWafcORo"
      }
    },
    {
      "cell_type": "markdown",
      "source": [
        "**A Two-Step Process**\n",
        "\n",
        "**Step 01:** After some time, take Feedback from\n",
        "\n",
        "o    Domain Experts and Users on deployed Titanic Passenger Survival Prediction System\n",
        "\n",
        "**Step 02:** Make a List of Possible Improvements based on Feedback received"
      ],
      "metadata": {
        "id": "_C_oXBdtchJ0"
      }
    },
    {
      "cell_type": "markdown",
      "source": [
        "# **Step 10: Improve Model based on Feedback**"
      ],
      "metadata": {
        "id": "D5vbjpXIcsnI"
      }
    },
    {
      "cell_type": "markdown",
      "source": [
        "There is Always Room for Improvement\n",
        "\n",
        "Based on Feedback from Domain Experts and Users\n",
        "\n",
        "o    Improve your Model"
      ],
      "metadata": {
        "id": "0sJuZz4ccyi1"
      }
    },
    {
      "cell_type": "code",
      "source": [],
      "metadata": {
        "id": "LvPpcEKMeqY5"
      },
      "execution_count": null,
      "outputs": []
    }
  ]
}